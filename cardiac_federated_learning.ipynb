{
  "nbformat": 4,
  "nbformat_minor": 0,
  "metadata": {
    "accelerator": "GPU",
    "colab": {
      "name": "cardiac_federated_learning.ipynb",
      "provenance": [],
      "collapsed_sections": []
    },
    "kernelspec": {
      "display_name": "Python 3",
      "language": "python",
      "name": "python3"
    },
    "language_info": {
      "codemirror_mode": {
        "name": "ipython",
        "version": 3
      },
      "file_extension": ".py",
      "mimetype": "text/x-python",
      "name": "python",
      "nbconvert_exporter": "python",
      "pygments_lexer": "ipython3",
      "version": "3.8.5"
    }
  },
  "cells": [
    {
      "cell_type": "markdown",
      "metadata": {
        "id": "MZBOEZThV3m4"
      },
      "source": [
        "# Federated Learning for Cardiac Risk Prediction"
      ]
    },
    {
      "cell_type": "markdown",
      "metadata": {
        "id": "fnw9BgEiV3m8"
      },
      "source": [
        "The purpose of this notebook is to predict whether or not a patient has risk of heart disease, while also ensuring the privacy of the patient's health data through federated learning."
      ]
    },
    {
      "cell_type": "code",
      "metadata": {
        "id": "kJe6wWKtkUUc"
      },
      "source": [
        "import numpy as np\n",
        "import pandas as pd"
      ],
      "execution_count": null,
      "outputs": []
    },
    {
      "cell_type": "code",
      "metadata": {
        "colab": {
          "base_uri": "https://localhost:8080/"
        },
        "id": "H4iTuhMSD6Tc",
        "outputId": "d1f0f262-0950-40cf-889d-f3051c60f033"
      },
      "source": [
        "from google.colab import drive\n",
        "drive.mount('/content/drive')"
      ],
      "execution_count": null,
      "outputs": [
        {
          "output_type": "stream",
          "text": [
            "Mounted at /content/drive\n"
          ],
          "name": "stdout"
        }
      ]
    },
    {
      "cell_type": "code",
      "metadata": {
        "id": "ToatlgkRD6WX"
      },
      "source": [
        "import tarfile\n",
        "import os"
      ],
      "execution_count": null,
      "outputs": []
    },
    {
      "cell_type": "code",
      "metadata": {
        "id": "Nw55uUpnD6aq"
      },
      "source": [
        "tar = tarfile.open(os.path.join('/content/drive/MyDrive', 'cardiac.tar.xz'))\n",
        "tar.extractall(path = '/content/drive/MyDrive/Data_Cardi')"
      ],
      "execution_count": null,
      "outputs": []
    },
    {
      "cell_type": "code",
      "metadata": {
        "id": "X2oAmUBxC8od"
      },
      "source": [
        "dataDir = '/content/drive/MyDrive/Data_Cardi/cardiac/Train.csv' \n",
        "\n"
      ],
      "execution_count": null,
      "outputs": []
    },
    {
      "cell_type": "code",
      "metadata": {
        "id": "P0lBpZd-C8rJ",
        "colab": {
          "base_uri": "https://localhost:8080/",
          "height": 226
        },
        "outputId": "aa924b65-1fdc-4fc6-d6ec-ac1fa0f01c6c"
      },
      "source": [
        "data = pd.read_csv(dataDir)\n",
        "data.head()\n",
        "#data_copy = data\n"
      ],
      "execution_count": null,
      "outputs": [
        {
          "output_type": "execute_result",
          "data": {
            "text/html": [
              "<div>\n",
              "<style scoped>\n",
              "    .dataframe tbody tr th:only-of-type {\n",
              "        vertical-align: middle;\n",
              "    }\n",
              "\n",
              "    .dataframe tbody tr th {\n",
              "        vertical-align: top;\n",
              "    }\n",
              "\n",
              "    .dataframe thead th {\n",
              "        text-align: right;\n",
              "    }\n",
              "</style>\n",
              "<table border=\"1\" class=\"dataframe\">\n",
              "  <thead>\n",
              "    <tr style=\"text-align: right;\">\n",
              "      <th></th>\n",
              "      <th>Gender</th>\n",
              "      <th>Chain_smoker</th>\n",
              "      <th>Consumes_other_tobacco_products</th>\n",
              "      <th>HighBP</th>\n",
              "      <th>Obese</th>\n",
              "      <th>Diabetes</th>\n",
              "      <th>Metabolic_syndrome</th>\n",
              "      <th>Use_of_stimulant_drugs</th>\n",
              "      <th>Family_history</th>\n",
              "      <th>History_of_preeclampsia</th>\n",
              "      <th>CABG_history</th>\n",
              "      <th>Respiratory_illness</th>\n",
              "      <th>UnderRisk</th>\n",
              "    </tr>\n",
              "  </thead>\n",
              "  <tbody>\n",
              "    <tr>\n",
              "      <th>0</th>\n",
              "      <td>1</td>\n",
              "      <td>1</td>\n",
              "      <td>1</td>\n",
              "      <td>0</td>\n",
              "      <td>1</td>\n",
              "      <td>0</td>\n",
              "      <td>0</td>\n",
              "      <td>0</td>\n",
              "      <td>1</td>\n",
              "      <td>0</td>\n",
              "      <td>0</td>\n",
              "      <td>0</td>\n",
              "      <td>no</td>\n",
              "    </tr>\n",
              "    <tr>\n",
              "      <th>1</th>\n",
              "      <td>1</td>\n",
              "      <td>0</td>\n",
              "      <td>1</td>\n",
              "      <td>0</td>\n",
              "      <td>1</td>\n",
              "      <td>0</td>\n",
              "      <td>0</td>\n",
              "      <td>0</td>\n",
              "      <td>1</td>\n",
              "      <td>0</td>\n",
              "      <td>0</td>\n",
              "      <td>0</td>\n",
              "      <td>no</td>\n",
              "    </tr>\n",
              "    <tr>\n",
              "      <th>2</th>\n",
              "      <td>1</td>\n",
              "      <td>0</td>\n",
              "      <td>1</td>\n",
              "      <td>0</td>\n",
              "      <td>1</td>\n",
              "      <td>0</td>\n",
              "      <td>0</td>\n",
              "      <td>0</td>\n",
              "      <td>1</td>\n",
              "      <td>0</td>\n",
              "      <td>0</td>\n",
              "      <td>0</td>\n",
              "      <td>no</td>\n",
              "    </tr>\n",
              "    <tr>\n",
              "      <th>3</th>\n",
              "      <td>1</td>\n",
              "      <td>0</td>\n",
              "      <td>1</td>\n",
              "      <td>0</td>\n",
              "      <td>1</td>\n",
              "      <td>0</td>\n",
              "      <td>0</td>\n",
              "      <td>0</td>\n",
              "      <td>1</td>\n",
              "      <td>0</td>\n",
              "      <td>0</td>\n",
              "      <td>0</td>\n",
              "      <td>no</td>\n",
              "    </tr>\n",
              "    <tr>\n",
              "      <th>4</th>\n",
              "      <td>1</td>\n",
              "      <td>0</td>\n",
              "      <td>0</td>\n",
              "      <td>0</td>\n",
              "      <td>0</td>\n",
              "      <td>0</td>\n",
              "      <td>1</td>\n",
              "      <td>1</td>\n",
              "      <td>0</td>\n",
              "      <td>0</td>\n",
              "      <td>0</td>\n",
              "      <td>0</td>\n",
              "      <td>no</td>\n",
              "    </tr>\n",
              "  </tbody>\n",
              "</table>\n",
              "</div>"
            ],
            "text/plain": [
              "   Gender  Chain_smoker  ...  Respiratory_illness  UnderRisk\n",
              "0       1             1  ...                    0         no\n",
              "1       1             0  ...                    0         no\n",
              "2       1             0  ...                    0         no\n",
              "3       1             0  ...                    0         no\n",
              "4       1             0  ...                    0         no\n",
              "\n",
              "[5 rows x 13 columns]"
            ]
          },
          "metadata": {
            "tags": []
          },
          "execution_count": 8
        }
      ]
    },
    {
      "cell_type": "code",
      "metadata": {
        "colab": {
          "base_uri": "https://localhost:8080/",
          "height": 226
        },
        "id": "dLvtp4W_zaOi",
        "outputId": "44e4b749-4353-4d85-dd34-89bd56881407"
      },
      "source": [
        "from sklearn import preprocessing\n",
        "  \n",
        "# label_encoder object knows how to understand word labels.\n",
        "label_encoder = preprocessing.LabelEncoder()\n",
        "  \n",
        "# Encode labels in column 'species'.\n",
        "data['UnderRisk']= label_encoder.fit_transform(data['UnderRisk'])\n",
        "data.head()"
      ],
      "execution_count": null,
      "outputs": [
        {
          "output_type": "execute_result",
          "data": {
            "text/html": [
              "<div>\n",
              "<style scoped>\n",
              "    .dataframe tbody tr th:only-of-type {\n",
              "        vertical-align: middle;\n",
              "    }\n",
              "\n",
              "    .dataframe tbody tr th {\n",
              "        vertical-align: top;\n",
              "    }\n",
              "\n",
              "    .dataframe thead th {\n",
              "        text-align: right;\n",
              "    }\n",
              "</style>\n",
              "<table border=\"1\" class=\"dataframe\">\n",
              "  <thead>\n",
              "    <tr style=\"text-align: right;\">\n",
              "      <th></th>\n",
              "      <th>Gender</th>\n",
              "      <th>Chain_smoker</th>\n",
              "      <th>Consumes_other_tobacco_products</th>\n",
              "      <th>HighBP</th>\n",
              "      <th>Obese</th>\n",
              "      <th>Diabetes</th>\n",
              "      <th>Metabolic_syndrome</th>\n",
              "      <th>Use_of_stimulant_drugs</th>\n",
              "      <th>Family_history</th>\n",
              "      <th>History_of_preeclampsia</th>\n",
              "      <th>CABG_history</th>\n",
              "      <th>Respiratory_illness</th>\n",
              "      <th>UnderRisk</th>\n",
              "    </tr>\n",
              "  </thead>\n",
              "  <tbody>\n",
              "    <tr>\n",
              "      <th>0</th>\n",
              "      <td>1</td>\n",
              "      <td>1</td>\n",
              "      <td>1</td>\n",
              "      <td>0</td>\n",
              "      <td>1</td>\n",
              "      <td>0</td>\n",
              "      <td>0</td>\n",
              "      <td>0</td>\n",
              "      <td>1</td>\n",
              "      <td>0</td>\n",
              "      <td>0</td>\n",
              "      <td>0</td>\n",
              "      <td>0</td>\n",
              "    </tr>\n",
              "    <tr>\n",
              "      <th>1</th>\n",
              "      <td>1</td>\n",
              "      <td>0</td>\n",
              "      <td>1</td>\n",
              "      <td>0</td>\n",
              "      <td>1</td>\n",
              "      <td>0</td>\n",
              "      <td>0</td>\n",
              "      <td>0</td>\n",
              "      <td>1</td>\n",
              "      <td>0</td>\n",
              "      <td>0</td>\n",
              "      <td>0</td>\n",
              "      <td>0</td>\n",
              "    </tr>\n",
              "    <tr>\n",
              "      <th>2</th>\n",
              "      <td>1</td>\n",
              "      <td>0</td>\n",
              "      <td>1</td>\n",
              "      <td>0</td>\n",
              "      <td>1</td>\n",
              "      <td>0</td>\n",
              "      <td>0</td>\n",
              "      <td>0</td>\n",
              "      <td>1</td>\n",
              "      <td>0</td>\n",
              "      <td>0</td>\n",
              "      <td>0</td>\n",
              "      <td>0</td>\n",
              "    </tr>\n",
              "    <tr>\n",
              "      <th>3</th>\n",
              "      <td>1</td>\n",
              "      <td>0</td>\n",
              "      <td>1</td>\n",
              "      <td>0</td>\n",
              "      <td>1</td>\n",
              "      <td>0</td>\n",
              "      <td>0</td>\n",
              "      <td>0</td>\n",
              "      <td>1</td>\n",
              "      <td>0</td>\n",
              "      <td>0</td>\n",
              "      <td>0</td>\n",
              "      <td>0</td>\n",
              "    </tr>\n",
              "    <tr>\n",
              "      <th>4</th>\n",
              "      <td>1</td>\n",
              "      <td>0</td>\n",
              "      <td>0</td>\n",
              "      <td>0</td>\n",
              "      <td>0</td>\n",
              "      <td>0</td>\n",
              "      <td>1</td>\n",
              "      <td>1</td>\n",
              "      <td>0</td>\n",
              "      <td>0</td>\n",
              "      <td>0</td>\n",
              "      <td>0</td>\n",
              "      <td>0</td>\n",
              "    </tr>\n",
              "  </tbody>\n",
              "</table>\n",
              "</div>"
            ],
            "text/plain": [
              "   Gender  Chain_smoker  ...  Respiratory_illness  UnderRisk\n",
              "0       1             1  ...                    0          0\n",
              "1       1             0  ...                    0          0\n",
              "2       1             0  ...                    0          0\n",
              "3       1             0  ...                    0          0\n",
              "4       1             0  ...                    0          0\n",
              "\n",
              "[5 rows x 13 columns]"
            ]
          },
          "metadata": {
            "tags": []
          },
          "execution_count": 9
        }
      ]
    },
    {
      "cell_type": "code",
      "metadata": {
        "colab": {
          "base_uri": "https://localhost:8080/"
        },
        "id": "yQhO-bL73xLK",
        "outputId": "6dac4c36-5f2c-4805-bdf6-151563199f8e"
      },
      "source": [
        "data_new = np.array(data)\n",
        "print(data_new)"
      ],
      "execution_count": null,
      "outputs": [
        {
          "output_type": "stream",
          "text": [
            "[[1 1 1 ... 0 0 0]\n",
            " [1 0 1 ... 0 0 0]\n",
            " [1 0 1 ... 0 0 0]\n",
            " ...\n",
            " [1 0 0 ... 0 0 1]\n",
            " [2 0 1 ... 0 0 0]\n",
            " [1 1 1 ... 0 0 1]]\n"
          ],
          "name": "stdout"
        }
      ]
    },
    {
      "cell_type": "code",
      "metadata": {
        "colab": {
          "base_uri": "https://localhost:8080/"
        },
        "id": "EUrC8UMx37VO",
        "outputId": "59417c3f-2ea3-4b5e-f4ab-6762f24a3485"
      },
      "source": [
        "print(data_new.shape)"
      ],
      "execution_count": null,
      "outputs": [
        {
          "output_type": "stream",
          "text": [
            "(889, 13)\n"
          ],
          "name": "stdout"
        }
      ]
    },
    {
      "cell_type": "code",
      "metadata": {
        "id": "4pkGlEDjm_R5"
      },
      "source": [
        "def get_random_indexes(n):\n",
        "    indexes = list(range(n))\n",
        "    random_indexes = []\n",
        "    for i in range(n):\n",
        "        r = np.random.randint(len(indexes))\n",
        "        random_indexes.append(indexes.pop(r))\n",
        "    return random_indexes\n",
        "\n",
        "def get_indexes_for_2_datasets(n, training = 80):\n",
        "    indexes = get_random_indexes(n)\n",
        "    train = int(training / 100. * n)\n",
        "    return indexes[:train], indexes[train:]\n",
        "\n",
        "matrix = data_new\n",
        "n_samples, n_dimensions = matrix.shape\n",
        "\n",
        "train_indexes, test_indexes = get_indexes_for_2_datasets(n_samples)\n",
        "train_data = matrix[train_indexes]\n",
        "test_data = matrix[test_indexes]"
      ],
      "execution_count": null,
      "outputs": []
    },
    {
      "cell_type": "code",
      "metadata": {
        "colab": {
          "base_uri": "https://localhost:8080/"
        },
        "id": "k_k1XRWaIFZA",
        "outputId": "5234c0a1-96d8-4ed5-a539-4cdc6d16c735"
      },
      "source": [
        "print(train_data.shape)"
      ],
      "execution_count": null,
      "outputs": [
        {
          "output_type": "stream",
          "text": [
            "(711, 13)\n"
          ],
          "name": "stdout"
        }
      ]
    },
    {
      "cell_type": "code",
      "metadata": {
        "colab": {
          "base_uri": "https://localhost:8080/"
        },
        "id": "5-WXd6L_IFdC",
        "outputId": "405e33d6-77f0-4431-9d0f-466f47790b30"
      },
      "source": [
        "print(test_data.shape)"
      ],
      "execution_count": null,
      "outputs": [
        {
          "output_type": "stream",
          "text": [
            "(178, 13)\n"
          ],
          "name": "stdout"
        }
      ]
    },
    {
      "cell_type": "code",
      "metadata": {
        "id": "ZkbSJl5-b4ql"
      },
      "source": [
        "import torch\n",
        "from torch.autograd import Variable\n",
        "import torch.nn as nn\n",
        "import torch.nn.functional as F\n",
        "from tqdm import tqdm as tqdm\n",
        "\n",
        "input_size = 12\n",
        "learning_rate = 0.001\n",
        "num_iterations = 20000\n",
        "\n",
        "class LogisticRegression(torch.nn.Module):\n",
        "\n",
        "    def __init__(self):\n",
        "        super(LogisticRegression, self).__init__()\n",
        "        self.linear = torch.nn.Linear(input_size, 1)\n",
        "        #self.l1 = torch.nn.Linear(8,6)\n",
        "        #self.l2 = torch.nn.Linear(6,4)\n",
        "        #self.l3 = torch.nn.Linear(4,2)\n",
        "        #self.l4 = torch.nn.Linear(2,1)\n",
        "        \n",
        "        self.sigmoid = torch.nn.Sigmoid()\n",
        "        #self.relu = torch.nn.ReLU()\n",
        "\n",
        "    def forward(self, x):\n",
        "        return torch.sigmoid(self.linear(x))\n",
        "        #out1 = self.relu(self.l1(x))\n",
        "        #out2 = self.relu(self.l2(out1))\n",
        "        #out3 = self.relu(self.l3(out2))\n",
        "        #prediction = self.sigmoid(self.l4(out3))\n",
        "        #return prediction\n"
      ],
      "execution_count": null,
      "outputs": []
    },
    {
      "cell_type": "code",
      "metadata": {
        "id": "w5O4kKkMb4tP"
      },
      "source": [
        "def decide(y):\n",
        "    return 1. if y >= 0.5 else 0.\n",
        "\n",
        "decide_vectorized = np.vectorize(decide)\n",
        "\n",
        "to_percent = lambda x: '{:.2f}%'.format(x)\n",
        "\n",
        "\n"
      ],
      "execution_count": null,
      "outputs": []
    },
    {
      "cell_type": "code",
      "metadata": {
        "id": "CBjccKlfb4wk"
      },
      "source": [
        "def compute_accuracy(model, input, output):\n",
        "    #print(input.shape, output.shape)\n",
        "    prediction = model(input).detach().numpy()\n",
        "    #print(prediction.shape)\n",
        "    \n",
        "    #n_samples = prediction.shape[0] + 0.\n",
        "    prediction = decide_vectorized(prediction)\n",
        "    equal = prediction.reshape(-1,) == output.detach().numpy().reshape(-1,)\n",
        "    return 100. * np.mean(equal)\n",
        "\n"
      ],
      "execution_count": null,
      "outputs": []
    },
    {
      "cell_type": "code",
      "metadata": {
        "id": "2D7bMUhpb4zB",
        "colab": {
          "base_uri": "https://localhost:8080/"
        },
        "outputId": "f33caeb1-7a06-4ca2-e07f-db9e1e8a1cff"
      },
      "source": [
        "def get_input_and_output(data):\n",
        "    input = Variable(torch.tensor(data[:, :12], dtype = torch.float32))\n",
        "    output1 = Variable(torch.tensor(data[:, 12], dtype = torch.float32))\n",
        "    #output2 = Variable(torch.tensor(data[:, 7], dtype = torch.float32))\n",
        "    return input, output1\n",
        "\n",
        "input, output1 = get_input_and_output(train_data)\n",
        "test_input, test_output1 = get_input_and_output(test_data)\n",
        "\n"
      ],
      "execution_count": null,
      "outputs": [
        {
          "output_type": "stream",
          "text": [
            "/usr/local/lib/python3.7/dist-packages/syft/frameworks/torch/hook/hook.py:634: UserWarning: To copy construct from a tensor, it is recommended to use sourceTensor.clone().detach() or sourceTensor.clone().detach().requires_grad_(True), rather than torch.tensor(sourceTensor).\n",
            "  current_tensor = hook_self.torch.native_tensor(*args, **kwargs)\n"
          ],
          "name": "stderr"
        }
      ]
    },
    {
      "cell_type": "code",
      "metadata": {
        "colab": {
          "base_uri": "https://localhost:8080/"
        },
        "id": "QDOk5rzbyb8b",
        "outputId": "b345be5d-f995-49a1-df9c-3afb892d34cd"
      },
      "source": [
        "print(input.shape)"
      ],
      "execution_count": null,
      "outputs": [
        {
          "output_type": "stream",
          "text": [
            "torch.Size([711, 12])\n"
          ],
          "name": "stdout"
        }
      ]
    },
    {
      "cell_type": "code",
      "metadata": {
        "id": "D6chIyYOb417"
      },
      "source": [
        "import matplotlib.pyplot as plt\n",
        "%matplotlib inline\n",
        "\n",
        "diagnosis_title = 'Cardiac Risk'\n",
        "\n",
        "def plot_graphs(diagnosis_title, losses, accuracies):\n",
        "    plt.plot(losses)\n",
        "    plt.title(f\"{diagnosis_title} - Training Loss\")\n",
        "    plt.xlabel(\"Iterations\")\n",
        "    plt.ylabel(\"Training Loss\")\n",
        "    plt.show()\n",
        "    plt.plot(accuracies)\n",
        "    plt.title(f\"{diagnosis_title} - Training Accuracy\")\n",
        "    plt.xlabel(\"Iterations\")\n",
        "    plt.ylabel(\"Training Accuracy (Percent %)\")\n",
        "    plt.show()\n",
        "    \n"
      ],
      "execution_count": null,
      "outputs": []
    },
    {
      "cell_type": "code",
      "metadata": {
        "id": "tHWTyrATX3gU"
      },
      "source": [
        "import torch.optim as optim"
      ],
      "execution_count": null,
      "outputs": []
    },
    {
      "cell_type": "code",
      "metadata": {
        "id": "5Gb6GI-9b45A"
      },
      "source": [
        "def train_model(diagnosis_title, input, output, test_input, test_output):\n",
        "    model = LogisticRegression()\n",
        "    criterion = torch.nn.BCELoss(size_average=True)\n",
        "    optimizer = torch.optim.SGD(model.parameters(), lr=learning_rate)\n",
        "    #scheduler = optim.lr_scheduler.StepLR(optimizer, step_size=5, gamma=0.1)  \n",
        "    losses = []\n",
        "    accuracies = []\n",
        "    n_samples, _ = input.shape\n",
        "    for iteration in tqdm(range(num_iterations)):\n",
        "            optimizer.zero_grad()\n",
        "            prediction = model(input)\n",
        "            #print(prediction.size(), output.size())\n",
        "            loss = criterion(prediction, output)\n",
        "            loss.backward()\n",
        "            optimizer.step()\n",
        "            if iteration % 500 == 0:\n",
        "            \n",
        "                train_acc = compute_accuracy(model, input, output)\n",
        "                train_loss = loss.item()\n",
        "                losses.append(train_loss)\n",
        "                accuracies.append(train_acc)\n",
        "                print('iteration={}, loss={:.4f}, train_acc={}'.format(iteration, train_loss, to_percent(train_acc)))\n",
        "            #scheduler.step()\n",
        "    plot_graphs(diagnosis_title, losses, accuracies)\n",
        "    test_acc = compute_accuracy(model, test_input, test_output)\n",
        "    print('\\nTesting Accuracy = {}'.format(to_percent(test_acc)))\n",
        "    return model"
      ],
      "execution_count": null,
      "outputs": []
    },
    {
      "cell_type": "code",
      "metadata": {
        "colab": {
          "base_uri": "https://localhost:8080/",
          "height": 1000
        },
        "id": "QSvsfyL1b47l",
        "outputId": "3e785884-0799-4198-bf59-a4d1bb10689c"
      },
      "source": [
        "model = train_model(diagnosis_title, input, output1.view(-1,1), test_input, test_output1)"
      ],
      "execution_count": null,
      "outputs": [
        {
          "output_type": "stream",
          "text": [
            "/usr/local/lib/python3.7/dist-packages/torch/nn/_reduction.py:43: UserWarning: size_average and reduce args will be deprecated, please use reduction='mean' instead.\n",
            "  warnings.warn(warning.format(ret))\n",
            "  2%|▏         | 345/20000 [00:00<00:11, 1727.88it/s]"
          ],
          "name": "stderr"
        },
        {
          "output_type": "stream",
          "text": [
            "iteration=0, loss=0.6566, train_acc=69.76%\n"
          ],
          "name": "stdout"
        },
        {
          "output_type": "stream",
          "text": [
            "  3%|▎         | 696/20000 [00:00<00:11, 1743.40it/s]"
          ],
          "name": "stderr"
        },
        {
          "output_type": "stream",
          "text": [
            "iteration=500, loss=0.5657, train_acc=78.76%\n"
          ],
          "name": "stdout"
        },
        {
          "output_type": "stream",
          "text": [
            "  6%|▌         | 1207/20000 [00:00<00:11, 1707.00it/s]"
          ],
          "name": "stderr"
        },
        {
          "output_type": "stream",
          "text": [
            "iteration=1000, loss=0.5375, train_acc=78.76%\n"
          ],
          "name": "stdout"
        },
        {
          "output_type": "stream",
          "text": [
            "  9%|▊         | 1717/20000 [00:01<00:10, 1707.28it/s]"
          ],
          "name": "stderr"
        },
        {
          "output_type": "stream",
          "text": [
            "iteration=1500, loss=0.5273, train_acc=78.76%\n"
          ],
          "name": "stdout"
        },
        {
          "output_type": "stream",
          "text": [
            " 11%|█         | 2225/20000 [00:01<00:10, 1689.62it/s]"
          ],
          "name": "stderr"
        },
        {
          "output_type": "stream",
          "text": [
            "iteration=2000, loss=0.5232, train_acc=78.76%\n"
          ],
          "name": "stdout"
        },
        {
          "output_type": "stream",
          "text": [
            " 14%|█▎        | 2743/20000 [00:01<00:10, 1654.69it/s]"
          ],
          "name": "stderr"
        },
        {
          "output_type": "stream",
          "text": [
            "iteration=2500, loss=0.5211, train_acc=78.76%\n"
          ],
          "name": "stdout"
        },
        {
          "output_type": "stream",
          "text": [
            " 16%|█▌        | 3248/20000 [00:01<00:10, 1638.49it/s]"
          ],
          "name": "stderr"
        },
        {
          "output_type": "stream",
          "text": [
            "iteration=3000, loss=0.5200, train_acc=78.76%\n"
          ],
          "name": "stdout"
        },
        {
          "output_type": "stream",
          "text": [
            " 19%|█▉        | 3756/20000 [00:02<00:09, 1663.87it/s]"
          ],
          "name": "stderr"
        },
        {
          "output_type": "stream",
          "text": [
            "iteration=3500, loss=0.5191, train_acc=78.76%\n"
          ],
          "name": "stdout"
        },
        {
          "output_type": "stream",
          "text": [
            " 21%|██▏       | 4270/20000 [00:02<00:09, 1692.13it/s]"
          ],
          "name": "stderr"
        },
        {
          "output_type": "stream",
          "text": [
            "iteration=4000, loss=0.5185, train_acc=78.76%\n"
          ],
          "name": "stdout"
        },
        {
          "output_type": "stream",
          "text": [
            " 24%|██▍       | 4789/20000 [00:02<00:08, 1698.59it/s]"
          ],
          "name": "stderr"
        },
        {
          "output_type": "stream",
          "text": [
            "iteration=4500, loss=0.5178, train_acc=78.76%\n"
          ],
          "name": "stdout"
        },
        {
          "output_type": "stream",
          "text": [
            " 26%|██▋       | 5295/20000 [00:03<00:08, 1656.99it/s]"
          ],
          "name": "stderr"
        },
        {
          "output_type": "stream",
          "text": [
            "iteration=5000, loss=0.5173, train_acc=78.76%\n"
          ],
          "name": "stdout"
        },
        {
          "output_type": "stream",
          "text": [
            " 29%|██▉       | 5814/20000 [00:03<00:08, 1645.55it/s]"
          ],
          "name": "stderr"
        },
        {
          "output_type": "stream",
          "text": [
            "iteration=5500, loss=0.5167, train_acc=78.76%\n"
          ],
          "name": "stdout"
        },
        {
          "output_type": "stream",
          "text": [
            " 32%|███▏      | 6327/20000 [00:03<00:08, 1670.06it/s]"
          ],
          "name": "stderr"
        },
        {
          "output_type": "stream",
          "text": [
            "iteration=6000, loss=0.5161, train_acc=78.76%\n"
          ],
          "name": "stdout"
        },
        {
          "output_type": "stream",
          "text": [
            " 34%|███▍      | 6847/20000 [00:04<00:07, 1713.13it/s]"
          ],
          "name": "stderr"
        },
        {
          "output_type": "stream",
          "text": [
            "iteration=6500, loss=0.5156, train_acc=78.76%\n"
          ],
          "name": "stdout"
        },
        {
          "output_type": "stream",
          "text": [
            " 36%|███▌      | 7190/20000 [00:04<00:07, 1680.33it/s]"
          ],
          "name": "stderr"
        },
        {
          "output_type": "stream",
          "text": [
            "iteration=7000, loss=0.5151, train_acc=78.76%\n"
          ],
          "name": "stdout"
        },
        {
          "output_type": "stream",
          "text": [
            " 38%|███▊      | 7699/20000 [00:04<00:07, 1680.67it/s]"
          ],
          "name": "stderr"
        },
        {
          "output_type": "stream",
          "text": [
            "iteration=7500, loss=0.5146, train_acc=78.76%\n"
          ],
          "name": "stdout"
        },
        {
          "output_type": "stream",
          "text": [
            " 41%|████      | 8216/20000 [00:04<00:06, 1704.26it/s]"
          ],
          "name": "stderr"
        },
        {
          "output_type": "stream",
          "text": [
            "iteration=8000, loss=0.5141, train_acc=78.76%\n"
          ],
          "name": "stdout"
        },
        {
          "output_type": "stream",
          "text": [
            " 44%|████▎     | 8724/20000 [00:05<00:06, 1668.26it/s]"
          ],
          "name": "stderr"
        },
        {
          "output_type": "stream",
          "text": [
            "iteration=8500, loss=0.5136, train_acc=78.76%\n"
          ],
          "name": "stdout"
        },
        {
          "output_type": "stream",
          "text": [
            " 46%|████▌     | 9223/20000 [00:05<00:06, 1627.01it/s]"
          ],
          "name": "stderr"
        },
        {
          "output_type": "stream",
          "text": [
            "iteration=9000, loss=0.5131, train_acc=78.76%\n"
          ],
          "name": "stdout"
        },
        {
          "output_type": "stream",
          "text": [
            " 49%|████▊     | 9740/20000 [00:05<00:06, 1666.58it/s]"
          ],
          "name": "stderr"
        },
        {
          "output_type": "stream",
          "text": [
            "iteration=9500, loss=0.5126, train_acc=78.76%\n"
          ],
          "name": "stdout"
        },
        {
          "output_type": "stream",
          "text": [
            " 51%|█████▏    | 10250/20000 [00:06<00:05, 1686.99it/s]"
          ],
          "name": "stderr"
        },
        {
          "output_type": "stream",
          "text": [
            "iteration=10000, loss=0.5122, train_acc=78.76%\n"
          ],
          "name": "stdout"
        },
        {
          "output_type": "stream",
          "text": [
            " 54%|█████▍    | 10753/20000 [00:06<00:05, 1646.74it/s]"
          ],
          "name": "stderr"
        },
        {
          "output_type": "stream",
          "text": [
            "iteration=10500, loss=0.5117, train_acc=78.76%\n"
          ],
          "name": "stdout"
        },
        {
          "output_type": "stream",
          "text": [
            " 56%|█████▋    | 11268/20000 [00:06<00:05, 1677.20it/s]"
          ],
          "name": "stderr"
        },
        {
          "output_type": "stream",
          "text": [
            "iteration=11000, loss=0.5112, train_acc=78.76%\n"
          ],
          "name": "stdout"
        },
        {
          "output_type": "stream",
          "text": [
            " 59%|█████▉    | 11786/20000 [00:07<00:04, 1713.02it/s]"
          ],
          "name": "stderr"
        },
        {
          "output_type": "stream",
          "text": [
            "iteration=11500, loss=0.5108, train_acc=78.76%\n"
          ],
          "name": "stdout"
        },
        {
          "output_type": "stream",
          "text": [
            " 62%|██████▏   | 12301/20000 [00:07<00:04, 1666.02it/s]"
          ],
          "name": "stderr"
        },
        {
          "output_type": "stream",
          "text": [
            "iteration=12000, loss=0.5104, train_acc=78.76%\n"
          ],
          "name": "stdout"
        },
        {
          "output_type": "stream",
          "text": [
            " 64%|██████▍   | 12808/20000 [00:07<00:04, 1627.82it/s]"
          ],
          "name": "stderr"
        },
        {
          "output_type": "stream",
          "text": [
            "iteration=12500, loss=0.5099, train_acc=78.76%\n"
          ],
          "name": "stdout"
        },
        {
          "output_type": "stream",
          "text": [
            " 67%|██████▋   | 13315/20000 [00:07<00:04, 1669.71it/s]"
          ],
          "name": "stderr"
        },
        {
          "output_type": "stream",
          "text": [
            "iteration=13000, loss=0.5095, train_acc=78.76%\n"
          ],
          "name": "stdout"
        },
        {
          "output_type": "stream",
          "text": [
            " 69%|██████▉   | 13821/20000 [00:08<00:03, 1662.92it/s]"
          ],
          "name": "stderr"
        },
        {
          "output_type": "stream",
          "text": [
            "iteration=13500, loss=0.5091, train_acc=78.76%\n"
          ],
          "name": "stdout"
        },
        {
          "output_type": "stream",
          "text": [
            " 72%|███████▏  | 14337/20000 [00:08<00:03, 1674.88it/s]"
          ],
          "name": "stderr"
        },
        {
          "output_type": "stream",
          "text": [
            "iteration=14000, loss=0.5087, train_acc=78.76%\n"
          ],
          "name": "stdout"
        },
        {
          "output_type": "stream",
          "text": [
            " 73%|███████▎  | 14679/20000 [00:08<00:03, 1671.69it/s]"
          ],
          "name": "stderr"
        },
        {
          "output_type": "stream",
          "text": [
            "iteration=14500, loss=0.5083, train_acc=78.76%\n"
          ],
          "name": "stdout"
        },
        {
          "output_type": "stream",
          "text": [
            " 76%|███████▌  | 15202/20000 [00:09<00:02, 1704.86it/s]"
          ],
          "name": "stderr"
        },
        {
          "output_type": "stream",
          "text": [
            "iteration=15000, loss=0.5079, train_acc=78.76%\n"
          ],
          "name": "stdout"
        },
        {
          "output_type": "stream",
          "text": [
            " 79%|███████▊  | 15717/20000 [00:09<00:02, 1631.32it/s]"
          ],
          "name": "stderr"
        },
        {
          "output_type": "stream",
          "text": [
            "iteration=15500, loss=0.5075, train_acc=78.76%\n"
          ],
          "name": "stdout"
        },
        {
          "output_type": "stream",
          "text": [
            " 81%|████████  | 16232/20000 [00:09<00:02, 1670.85it/s]"
          ],
          "name": "stderr"
        },
        {
          "output_type": "stream",
          "text": [
            "iteration=16000, loss=0.5071, train_acc=78.76%\n"
          ],
          "name": "stdout"
        },
        {
          "output_type": "stream",
          "text": [
            " 84%|████████▎ | 16749/20000 [00:10<00:01, 1698.45it/s]"
          ],
          "name": "stderr"
        },
        {
          "output_type": "stream",
          "text": [
            "iteration=16500, loss=0.5068, train_acc=78.76%\n"
          ],
          "name": "stdout"
        },
        {
          "output_type": "stream",
          "text": [
            " 86%|████████▋ | 17257/20000 [00:10<00:01, 1658.08it/s]"
          ],
          "name": "stderr"
        },
        {
          "output_type": "stream",
          "text": [
            "iteration=17000, loss=0.5064, train_acc=78.76%\n"
          ],
          "name": "stdout"
        },
        {
          "output_type": "stream",
          "text": [
            " 89%|████████▉ | 17773/20000 [00:10<00:01, 1679.92it/s]"
          ],
          "name": "stderr"
        },
        {
          "output_type": "stream",
          "text": [
            "iteration=17500, loss=0.5060, train_acc=78.76%\n"
          ],
          "name": "stdout"
        },
        {
          "output_type": "stream",
          "text": [
            " 91%|█████████▏| 18286/20000 [00:10<00:01, 1695.20it/s]"
          ],
          "name": "stderr"
        },
        {
          "output_type": "stream",
          "text": [
            "iteration=18000, loss=0.5057, train_acc=78.76%\n"
          ],
          "name": "stdout"
        },
        {
          "output_type": "stream",
          "text": [
            " 94%|█████████▍| 18800/20000 [00:11<00:00, 1684.39it/s]"
          ],
          "name": "stderr"
        },
        {
          "output_type": "stream",
          "text": [
            "iteration=18500, loss=0.5053, train_acc=78.76%\n"
          ],
          "name": "stdout"
        },
        {
          "output_type": "stream",
          "text": [
            " 97%|█████████▋| 19315/20000 [00:11<00:00, 1686.54it/s]"
          ],
          "name": "stderr"
        },
        {
          "output_type": "stream",
          "text": [
            "iteration=19000, loss=0.5050, train_acc=78.76%\n"
          ],
          "name": "stdout"
        },
        {
          "output_type": "stream",
          "text": [
            " 99%|█████████▉| 19828/20000 [00:11<00:00, 1695.66it/s]"
          ],
          "name": "stderr"
        },
        {
          "output_type": "stream",
          "text": [
            "iteration=19500, loss=0.5046, train_acc=78.76%\n"
          ],
          "name": "stdout"
        },
        {
          "output_type": "stream",
          "text": [
            "100%|██████████| 20000/20000 [00:11<00:00, 1669.71it/s]\n"
          ],
          "name": "stderr"
        },
        {
          "output_type": "display_data",
          "data": {
            "image/png": "[encoded data removed]",
            "text/plain": [
              "<Figure size 432x288 with 1 Axes>"
            ]
          },
          "metadata": {
            "tags": [],
            "needs_background": "light"
          }
        },
        {
          "output_type": "display_data",
          "data": {
            "image/png": "[encoded data removed]",
            "text/plain": [
              "<Figure size 432x288 with 1 Axes>"
            ]
          },
          "metadata": {
            "tags": [],
            "needs_background": "light"
          }
        },
        {
          "output_type": "stream",
          "text": [
            "\n",
            "Testing Accuracy = 78.09%\n"
          ],
          "name": "stdout"
        }
      ]
    },
    {
      "cell_type": "markdown",
      "metadata": {
        "id": "51rz-z_ieXVw"
      },
      "source": [
        "## Implementing Federatedd Learning using FedAvg algorithm"
      ]
    },
    {
      "cell_type": "code",
      "metadata": {
        "id": "QCutNy6LV3m-"
      },
      "source": [
        "assert True is True"
      ],
      "execution_count": null,
      "outputs": []
    },
    {
      "cell_type": "code",
      "metadata": {
        "colab": {
          "base_uri": "https://localhost:8080/",
          "height": 1000
        },
        "id": "76UBALTvYcz5",
        "outputId": "2de6b965-c8c2-4322-9d36-1dbc76e81a42"
      },
      "source": [
        "!pip install syft==\"0.2.2a1\"\n",
        "!pip install syft_proto==\"0.1.1a1.post17\""
      ],
      "execution_count": null,
      "outputs": [
        {
          "output_type": "stream",
          "text": [
            "Collecting syft==0.2.2a1\n",
            "\u001b[?25l  Downloading https://files.pythonhosted.org/packages/8a/3e/d9307f7e183205e19cac0e206fb6de5fb495724835bb91805311a5583c68/syft-0.2.2a1-py3-none-any.whl (337kB)\n",
            "\u001b[K     |████████████████████████████████| 337kB 20.3MB/s \n",
            "\u001b[?25hCollecting zstd>=1.4.0.0\n",
            "\u001b[?25l  Downloading https://files.pythonhosted.org/packages/4c/e9/d519bfa2113a3a5b27f747e8cd4cec18a2b860e413b69bd3e445d9aba003/zstd-1.5.0.2.tar.gz (528kB)\n",
            "\u001b[K     |████████████████████████████████| 532kB 50.3MB/s \n",
            "\u001b[?25hCollecting torchvision==0.4.1\n",
            "\u001b[?25l  Downloading https://files.pythonhosted.org/packages/72/b9/5e22c25a201b80cd599af910200b66872af5f5404a13dc76e9ce1a988bed/torchvision-0.4.1-cp37-cp37m-manylinux1_x86_64.whl (10.1MB)\n",
            "\u001b[K     |████████████████████████████████| 10.2MB 22.0MB/s \n",
            "\u001b[?25hCollecting lz4>=2.1.6\n",
            "\u001b[?25l  Downloading https://files.pythonhosted.org/packages/e3/52/151c815a486290608e4dc6699a0cfd74141dc5191f8fe928e7d1b28b569e/lz4-3.1.3-cp37-cp37m-manylinux2010_x86_64.whl (1.8MB)\n",
            "\u001b[K     |████████████████████████████████| 1.8MB 40.6MB/s \n",
            "\u001b[?25hRequirement already satisfied: numpy>=1.16.0 in /usr/local/lib/python3.7/dist-packages (from syft==0.2.2a1) (1.19.5)\n",
            "Requirement already satisfied: Flask>=1.0.2 in /usr/local/lib/python3.7/dist-packages (from syft==0.2.2a1) (1.1.4)\n",
            "Collecting torch==1.3\n",
            "\u001b[?25l  Downloading https://files.pythonhosted.org/packages/b4/0b/9d33aef363b6728ad937643d98be713c6c25d50ce338678ad57cee6e6fd5/torch-1.3.0-cp37-cp37m-manylinux1_x86_64.whl (773.1MB)\n",
            "\u001b[K     |████████████████████████████████| 773.1MB 22kB/s \n",
            "\u001b[?25hRequirement already satisfied: msgpack>=0.6.1 in /usr/local/lib/python3.7/dist-packages (from syft==0.2.2a1) (1.0.2)\n",
            "Collecting websockets>=7.0\n",
            "\u001b[?25l  Downloading https://files.pythonhosted.org/packages/84/64/78c2b3fe37730b30dca3c93d1f7f4a4286767f86e7c04cf3571b39bc2fb7/websockets-9.1-cp37-cp37m-manylinux2010_x86_64.whl (103kB)\n",
            "\u001b[K     |████████████████████████████████| 112kB 54.8MB/s \n",
            "\u001b[?25hRequirement already satisfied: tblib>=1.4.0 in /usr/local/lib/python3.7/dist-packages (from syft==0.2.2a1) (1.7.0)\n",
            "Requirement already satisfied: scipy>=1.4.1 in /usr/local/lib/python3.7/dist-packages (from syft==0.2.2a1) (1.4.1)\n",
            "Collecting flask-socketio>=3.3.2\n",
            "  Downloading https://files.pythonhosted.org/packages/6b/c3/bfb4b908263f14a69e3781b0d3d19037f67c006c83b55db37669264cbecc/Flask_SocketIO-5.1.0-py2.py3-none-any.whl\n",
            "Collecting websocket-client>=0.56.0\n",
            "\u001b[?25l  Downloading https://files.pythonhosted.org/packages/ca/5f/3c211d168b2e9f9342cfb53bcfc26aab0eac63b998015e7af7bcae66119d/websocket_client-1.1.0-py2.py3-none-any.whl (68kB)\n",
            "\u001b[K     |████████████████████████████████| 71kB 10.3MB/s \n",
            "\u001b[?25hCollecting Pillow<7\n",
            "\u001b[?25l  Downloading https://files.pythonhosted.org/packages/c3/3f/03375124676ab49ca6e6917c0f1f663afb8354d5d24e12f4fe4587a39ae2/Pillow-6.2.2-cp37-cp37m-manylinux1_x86_64.whl (2.1MB)\n",
            "\u001b[K     |████████████████████████████████| 2.1MB 41.7MB/s \n",
            "\u001b[?25hCollecting syft-proto>=0.1.0a1.post23\n",
            "\u001b[?25l  Downloading https://files.pythonhosted.org/packages/da/88/67edf7836ac4eab723416933cd663c4f87753d3ff31337f91701c0b75474/syft_proto-0.5.3-py3-none-any.whl (66kB)\n",
            "\u001b[K     |████████████████████████████████| 71kB 11.3MB/s \n",
            "\u001b[?25hCollecting phe>=1.4.0\n",
            "  Downloading https://files.pythonhosted.org/packages/32/0e/568e97b014eb14e794a1258a341361e9da351dc6240c63b89e1541e3341c/phe-1.4.0.tar.gz\n",
            "Requirement already satisfied: six in /usr/local/lib/python3.7/dist-packages (from torchvision==0.4.1->syft==0.2.2a1) (1.15.0)\n",
            "Requirement already satisfied: click<8.0,>=5.1 in /usr/local/lib/python3.7/dist-packages (from Flask>=1.0.2->syft==0.2.2a1) (7.1.2)\n",
            "Requirement already satisfied: Werkzeug<2.0,>=0.15 in /usr/local/lib/python3.7/dist-packages (from Flask>=1.0.2->syft==0.2.2a1) (1.0.1)\n",
            "Requirement already satisfied: Jinja2<3.0,>=2.10.1 in /usr/local/lib/python3.7/dist-packages (from Flask>=1.0.2->syft==0.2.2a1) (2.11.3)\n",
            "Requirement already satisfied: itsdangerous<2.0,>=0.24 in /usr/local/lib/python3.7/dist-packages (from Flask>=1.0.2->syft==0.2.2a1) (1.1.0)\n",
            "Collecting python-socketio>=5.0.2\n",
            "\u001b[?25l  Downloading https://files.pythonhosted.org/packages/d9/e8/00978e9a578e0727c902efaf69ee98be702adee61c9d2966e0eec257d0a3/python_socketio-5.3.0-py2.py3-none-any.whl (53kB)\n",
            "\u001b[K     |████████████████████████████████| 61kB 8.7MB/s \n",
            "\u001b[?25hRequirement already satisfied: protobuf>=3.12.2 in /usr/local/lib/python3.7/dist-packages (from syft-proto>=0.1.0a1.post23->syft==0.2.2a1) (3.12.4)\n",
            "Requirement already satisfied: MarkupSafe>=0.23 in /usr/local/lib/python3.7/dist-packages (from Jinja2<3.0,>=2.10.1->Flask>=1.0.2->syft==0.2.2a1) (2.0.1)\n",
            "Collecting python-engineio>=4.1.0\n",
            "\u001b[?25l  Downloading https://files.pythonhosted.org/packages/07/2b/d51f2ddd6e4a4b8aca044b23a16ca1ab0d47cc7a4b0b99dab4f047780795/python_engineio-4.2.0-py2.py3-none-any.whl (51kB)\n",
            "\u001b[K     |████████████████████████████████| 61kB 9.7MB/s \n",
            "\u001b[?25hCollecting bidict>=0.21.0\n",
            "  Downloading https://files.pythonhosted.org/packages/67/d4/eaf9242722bf991e0955380dd6168020cb15a71cc0d3cc2373f4911b1f1d/bidict-0.21.2-py2.py3-none-any.whl\n",
            "Requirement already satisfied: setuptools in /usr/local/lib/python3.7/dist-packages (from protobuf>=3.12.2->syft-proto>=0.1.0a1.post23->syft==0.2.2a1) (57.0.0)\n",
            "Building wheels for collected packages: zstd, phe\n",
            "  Building wheel for zstd (setup.py) ... \u001b[?25l\u001b[?25hdone\n",
            "  Created wheel for zstd: filename=zstd-1.5.0.2-cp37-cp37m-linux_x86_64.whl size=1672583 sha256=c98250d924b96669e8a95aa18d83ae48b74952f776ce2d522d11ad755b153adb\n",
            "  Stored in directory: /root/.cache/pip/wheels/de/94/60/9664cd21af20b4d63068fd1b6271951207947cd1a4085fcf97\n",
            "  Building wheel for phe (setup.py) ... \u001b[?25l\u001b[?25hdone\n",
            "  Created wheel for phe: filename=phe-1.4.0-py2.py3-none-any.whl size=37362 sha256=bc9d7717ca6d16a2439a5b83e2adba7f1e9e9350c74ddaf8b0624b497a1e9400\n",
            "  Stored in directory: /root/.cache/pip/wheels/f8/dc/36/dcb6bf0f1b9907e7b710ace63e64d08e7022340909315fdea4\n",
            "Successfully built zstd phe\n",
            "\u001b[31mERROR: torchtext 0.10.0 has requirement torch==1.9.0, but you'll have torch 1.3.0 which is incompatible.\u001b[0m\n",
            "\u001b[31mERROR: bokeh 2.3.2 has requirement pillow>=7.1.0, but you'll have pillow 6.2.2 which is incompatible.\u001b[0m\n",
            "\u001b[31mERROR: albumentations 0.1.12 has requirement imgaug<0.2.7,>=0.2.5, but you'll have imgaug 0.2.9 which is incompatible.\u001b[0m\n",
            "Installing collected packages: zstd, torch, Pillow, torchvision, lz4, websockets, python-engineio, bidict, python-socketio, flask-socketio, websocket-client, syft-proto, phe, syft\n",
            "  Found existing installation: torch 1.9.0+cu102\n",
            "    Uninstalling torch-1.9.0+cu102:\n",
            "      Successfully uninstalled torch-1.9.0+cu102\n",
            "  Found existing installation: Pillow 7.1.2\n",
            "    Uninstalling Pillow-7.1.2:\n",
            "      Successfully uninstalled Pillow-7.1.2\n",
            "  Found existing installation: torchvision 0.10.0+cu102\n",
            "    Uninstalling torchvision-0.10.0+cu102:\n",
            "      Successfully uninstalled torchvision-0.10.0+cu102\n",
            "Successfully installed Pillow-6.2.2 bidict-0.21.2 flask-socketio-5.1.0 lz4-3.1.3 phe-1.4.0 python-engineio-4.2.0 python-socketio-5.3.0 syft-0.2.2a1 syft-proto-0.5.3 torch-1.3.0 torchvision-0.4.1 websocket-client-1.1.0 websockets-9.1 zstd-1.5.0.2\n"
          ],
          "name": "stdout"
        },
        {
          "output_type": "display_data",
          "data": {
            "application/vnd.colab-display-data+json": {
              "pip_warning": {
                "packages": [
                  "PIL"
                ]
              }
            }
          },
          "metadata": {
            "tags": []
          }
        },
        {
          "output_type": "stream",
          "text": [
            "Collecting syft_proto==0.1.1a1.post17\n",
            "\u001b[?25l  Downloading https://files.pythonhosted.org/packages/e8/50/f5d1d0356468edd7571962789a8b426037033d79017f24602690220e5ab0/syft_proto-0.1.1a1.post17-py3-none-any.whl (40kB)\n",
            "\r\u001b[K     |████████▏                       | 10kB 21.9MB/s eta 0:00:01\r\u001b[K     |████████████████▍               | 20kB 27.6MB/s eta 0:00:01\r\u001b[K     |████████████████████████▌       | 30kB 31.6MB/s eta 0:00:01\r\u001b[K     |████████████████████████████████| 40kB 6.4MB/s \n",
            "\u001b[?25hRequirement already satisfied: protobuf>=3.11.1 in /usr/local/lib/python3.7/dist-packages (from syft_proto==0.1.1a1.post17) (3.12.4)\n",
            "Requirement already satisfied: setuptools in /usr/local/lib/python3.7/dist-packages (from protobuf>=3.11.1->syft_proto==0.1.1a1.post17) (57.0.0)\n",
            "Requirement already satisfied: six>=1.9 in /usr/local/lib/python3.7/dist-packages (from protobuf>=3.11.1->syft_proto==0.1.1a1.post17) (1.15.0)\n",
            "Installing collected packages: syft-proto\n",
            "  Found existing installation: syft-proto 0.5.3\n",
            "    Uninstalling syft-proto-0.5.3:\n",
            "      Successfully uninstalled syft-proto-0.5.3\n",
            "Successfully installed syft-proto-0.1.1a1.post17\n"
          ],
          "name": "stdout"
        }
      ]
    },
    {
      "cell_type": "code",
      "metadata": {
        "id": "OORsMm7lYIwK"
      },
      "source": [
        "import sys\n",
        "import pytest\n",
        "import syft as sy"
      ],
      "execution_count": null,
      "outputs": []
    },
    {
      "cell_type": "code",
      "metadata": {
        "id": "Wg4obNjEa9lS"
      },
      "source": [
        "import torch as th\n",
        "hook = sy.TorchHook(th)\n",
        "from torch import nn, optim"
      ],
      "execution_count": null,
      "outputs": []
    },
    {
      "cell_type": "code",
      "metadata": {
        "id": "nGNfzhaXbAwE"
      },
      "source": [
        "n_hospitals = 2\n",
        "hospitals = []\n",
        "for i in range(n_hospitals):\n",
        "    hospital_name = 'hospital{}'.format(i)\n",
        "    hospital = sy.VirtualWorker(hook, id = hospital_name)\n",
        "    hospitals.append(hospital)\n",
        "secure_worker = sy.VirtualWorker(hook, id=\"secure_worker\")"
      ],
      "execution_count": null,
      "outputs": []
    },
    {
      "cell_type": "code",
      "metadata": {
        "id": "awZiUcZSbAzZ"
      },
      "source": [
        "def get_workers_names(workers):\n",
        "    return [worker.id for worker in workers]"
      ],
      "execution_count": null,
      "outputs": []
    },
    {
      "cell_type": "code",
      "metadata": {
        "id": "Koqg2G16bA2X"
      },
      "source": [
        "def add_and_print_workers(worker, workers):\n",
        "    print('workers of {} = {}'.format(worker.id, get_workers_names(workers)))\n",
        "    worker.add_workers(workers)"
      ],
      "execution_count": null,
      "outputs": []
    },
    {
      "cell_type": "code",
      "metadata": {
        "colab": {
          "base_uri": "https://localhost:8080/"
        },
        "id": "oOjufty1bA5T",
        "outputId": "e1dcbe3a-aea2-41ff-a849-a46553c07479"
      },
      "source": [
        "for i in range(n_hospitals):\n",
        "    workers = [hospitals[i2] for i2 in range(n_hospitals) if i2 != i] + [secure_worker]\n",
        "    add_and_print_workers(hospitals[i], workers)\n",
        "add_and_print_workers(secure_worker, hospitals)"
      ],
      "execution_count": null,
      "outputs": [
        {
          "output_type": "stream",
          "text": [
            "Worker hospital1 already exists. Replacing old worker which could cause                     unexpected behavior\n",
            "Worker secure_worker already exists. Replacing old worker which could cause                     unexpected behavior\n",
            "Worker hospital0 already exists. Replacing old worker which could cause                     unexpected behavior\n",
            "Worker secure_worker already exists. Replacing old worker which could cause                     unexpected behavior\n",
            "Worker hospital0 already exists. Replacing old worker which could cause                     unexpected behavior\n",
            "Worker hospital1 already exists. Replacing old worker which could cause                     unexpected behavior\n"
          ],
          "name": "stderr"
        },
        {
          "output_type": "stream",
          "text": [
            "workers of hospital0 = ['hospital1', 'secure_worker']\n",
            "workers of hospital1 = ['hospital0', 'secure_worker']\n",
            "workers of secure_worker = ['hospital0', 'hospital1']\n"
          ],
          "name": "stdout"
        }
      ]
    },
    {
      "cell_type": "code",
      "metadata": {
        "colab": {
          "base_uri": "https://localhost:8080/"
        },
        "id": "tBcRTww8bA8N",
        "outputId": "b800ab68-dd24-41af-b5c4-9497182a00f1"
      },
      "source": [
        "n_samples = train_data.shape[0]\n",
        "samples_per_hospital = int((n_samples + 0.5) / n_hospitals)\n",
        "hospital_features = []\n",
        "hospital_targets1 = []\n",
        "#hospital_targets2 = []\n",
        "train_data = th.tensor(train_data, dtype = torch.float32, requires_grad=True)\n",
        "for i in range(n_hospitals):\n",
        "    train_data2 = train_data[i * samples_per_hospital:(i + 1) * samples_per_hospital].clone().detach().requires_grad_(True)\n",
        "    features = train_data2[:, :12].clone().detach().requires_grad_(True)\n",
        "    targets1 = train_data2[:, 12][:, None].clone().detach() \n",
        "    #targets2 = train_data2[:, 7][:, None].clone().detach() \n",
        "    hospital_features.append(features.send(hospitals[i]))\n",
        "    hospital_targets1.append(targets1.send(hospitals[i]))\n",
        "    #hospital_targets2.append(targets2.send(hospitals[i]))\n",
        "\n",
        "print(model)"
      ],
      "execution_count": null,
      "outputs": [
        {
          "output_type": "stream",
          "text": [
            "LogisticRegression(\n",
            "  (linear): Linear(in_features=12, out_features=1, bias=True)\n",
            "  (sigmoid): Sigmoid()\n",
            ")\n"
          ],
          "name": "stdout"
        }
      ]
    },
    {
      "cell_type": "code",
      "metadata": {
        "id": "XH1yhRJvbA_K"
      },
      "source": [
        "def plot_federated_graphs(diagnosis_title, losses, accuracies):\n",
        "    for i in range(n_hospitals):\n",
        "        plt.plot(losses[i], label=f'Hospital {i}')\n",
        "    legend = plt.legend(loc='upper right', shadow=True)\n",
        "    plt.title(f\"{diagnosis_title} - Training Loss\")\n",
        "    plt.xlabel(\"Iterations\")\n",
        "    plt.ylabel(\"Training Loss\")\n",
        "    plt.show()\n",
        "    for i in range(n_hospitals):\n",
        "        plt.plot(accuracies[i], label=f'Hospital {i}')\n",
        "    legend = plt.legend(loc='lower right', shadow=True)\n",
        "    plt.title(f\"{diagnosis_title} - Training Accuracy\")\n",
        "    plt.xlabel(\"Iterations\")\n",
        "    plt.ylabel(\"Training Accuracy (%)\")\n",
        "    plt.show()\n",
        "    "
      ],
      "execution_count": null,
      "outputs": []
    },
    {
      "cell_type": "code",
      "metadata": {
        "id": "3oOMtB2FbBB8"
      },
      "source": [
        "def compute_federated_accuracy(model, input, output):\n",
        "    prediction = model(input)\n",
        "    n_samples = prediction.shape[0]\n",
        "    s = 0.\n",
        "    for i in range(n_samples):\n",
        "        p = 1. if prediction[i] >= 0.5 else 0.\n",
        "        e = 1. if p == output[i] else 0.\n",
        "        s += e\n",
        "    return 100. * s / n_samples\n"
      ],
      "execution_count": null,
      "outputs": []
    },
    {
      "cell_type": "code",
      "metadata": {
        "id": "kNiodggpbBEo"
      },
      "source": [
        "iterations = 500 #2000\n",
        "worker_iterations = 10\n",
        "\n",
        "def federated_learning(diagnosis_title, hospital_features, hospital_targets, test_input, test_output):\n",
        "    model = LogisticRegression()\n",
        "    criterion = torch.nn.BCELoss(size_average=True)\n",
        "    optimizer = torch.optim.SGD(model.parameters(), lr=learning_rate)  \n",
        "    losses = [[] for i in range(n_hospitals)]\n",
        "    accuracies = [[] for i in range(n_hospitals)]\n",
        "    for iteration in range(iterations):\n",
        "        models = [model.copy().send(hospitals[i]) for i in range(n_hospitals)]\n",
        "        optimizers = [torch.optim.SGD(params = models[i].parameters(), lr = learning_rate) for i in range(n_hospitals)]\n",
        "        for worker_iteration in range(worker_iterations):\n",
        "            last_losses = []\n",
        "            for i in range(n_hospitals):\n",
        "                optimizers[i].zero_grad()\n",
        "                prediction = models[i](hospital_features[i])\n",
        "                loss = criterion(prediction, hospital_targets[i])\n",
        "                loss.backward()\n",
        "                optimizers[i].step()\n",
        "                loss = loss.get().data.item()\n",
        "                last_losses.append(loss)\n",
        "        for i in range(n_hospitals):\n",
        "            losses[i].append(last_losses[i])\n",
        "            train_acc = compute_federated_accuracy(models[i], hospital_features[i], hospital_targets[i])\n",
        "            accuracies[i].append(train_acc)\n",
        "            models[i].move(secure_worker)\n",
        "        with th.no_grad():\n",
        "            avg_weight = sum([models[i].linear.weight.data for i in range(n_hospitals)]) / n_hospitals\n",
        "            model.linear.weight.set_(avg_weight.get())\n",
        "            avg_bias = sum([models[i].linear.bias.data for i in range(n_hospitals)]) / n_hospitals\n",
        "            model.linear.bias.set_(avg_bias.get())\n",
        "        if iteration % 100 == 0:\n",
        "            losses_str = ['{:.4f}'.format(losses[i][-1]) for i in range(n_hospitals)]\n",
        "            accuracies_str = [to_percent(accuracies[i][-1]) for i in range(n_hospitals)]\n",
        "            print('Iteration={}, losses={}, accuracies={}'.format(iteration, losses_str, accuracies_str))\n",
        "    plot_federated_graphs(diagnosis_title, losses, accuracies)\n",
        "    test_acc = compute_accuracy(model, test_input, test_output)\n",
        "    print('\\nTesting Accuracy = {}'.format(to_percent(test_acc)))\n",
        "    return model"
      ],
      "execution_count": null,
      "outputs": []
    },
    {
      "cell_type": "code",
      "metadata": {
        "colab": {
          "base_uri": "https://localhost:8080/",
          "height": 749
        },
        "id": "2Sd-QwrbbBHk",
        "outputId": "4cfd8253-2386-4125-962c-b5dcb731fd6e"
      },
      "source": [
        "model = federated_learning(diagnosis_title, hospital_features, hospital_targets1, test_input, test_output1)"
      ],
      "execution_count": null,
      "outputs": [
        {
          "output_type": "stream",
          "text": [
            "/usr/local/lib/python3.7/dist-packages/torch/nn/_reduction.py:43: UserWarning: size_average and reduce args will be deprecated, please use reduction='mean' instead.\n",
            "  warnings.warn(warning.format(ret))\n"
          ],
          "name": "stderr"
        },
        {
          "output_type": "stream",
          "text": [
            "Iteration=0, losses=['0.8584', '0.8761'], accuracies=['21.97%', '20.56%']\n",
            "Iteration=100, losses=['0.5629', '0.5648'], accuracies=['75.77%', '74.37%']\n",
            "Iteration=200, losses=['0.5355', '0.5306'], accuracies=['75.77%', '74.93%']\n",
            "Iteration=300, losses=['0.5312', '0.5231'], accuracies=['78.03%', '78.59%']\n",
            "Iteration=400, losses=['0.5295', '0.5198'], accuracies=['77.75%', '78.59%']\n"
          ],
          "name": "stdout"
        },
        {
          "output_type": "display_data",
          "data": {
            "image/png": "[encoded data removed]",
            "text/plain": [
              "<Figure size 432x288 with 1 Axes>"
            ]
          },
          "metadata": {
            "tags": [],
            "needs_background": "light"
          }
        },
        {
          "output_type": "display_data",
          "data": {
            "image/png": "[encoded data removed]",
            "text/plain": [
              "<Figure size 432x288 with 1 Axes>"
            ]
          },
          "metadata": {
            "tags": [],
            "needs_background": "light"
          }
        },
        {
          "output_type": "stream",
          "text": [
            "\n",
            "Testing Accuracy = 78.09%\n"
          ],
          "name": "stdout"
        }
      ]
    },
    {
      "cell_type": "code",
      "metadata": {
        "id": "RU8grQ5MbBM0"
      },
      "source": [
        ""
      ],
      "execution_count": null,
      "outputs": []
    },
    {
      "cell_type": "code",
      "metadata": {
        "id": "akHAHy4obBRP"
      },
      "source": [
        ""
      ],
      "execution_count": null,
      "outputs": []
    }
  ]
}