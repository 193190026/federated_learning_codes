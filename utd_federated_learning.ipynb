{
  "nbformat": 4,
  "nbformat_minor": 0,
  "metadata": {
    "kernelspec": {
      "display_name": "Python 3",
      "language": "python",
      "name": "python3"
    },
    "language_info": {
      "codemirror_mode": {
        "name": "ipython",
        "version": 3
      },
      "file_extension": ".py",
      "mimetype": "text/x-python",
      "name": "python",
      "nbconvert_exporter": "python",
      "pygments_lexer": "ipython3",
      "version": "3.8.5"
    },
    "colab": {
      "name": "UTD_federated_learning.ipynb",
      "provenance": [],
      "collapsed_sections": []
    }
  },
  "cells": [
    {
      "cell_type": "markdown",
      "metadata": {
        "id": "MZBOEZThV3m4"
      },
      "source": [
        "# Federated Learning for Acute Inflammation Dataset"
      ]
    },
    {
      "cell_type": "markdown",
      "metadata": {
        "id": "fnw9BgEiV3m8"
      },
      "source": [
        "The purpose of this notebook is to predict whether or not a patient has an acute inflammation condition, while also ensuring the privacy of the patient's health data through federated learning. "
      ]
    },
    {
      "cell_type": "code",
      "metadata": {
        "id": "U9NbDeShb4dw"
      },
      "source": [
        "import urllib.request\n",
        "\n",
        "def download_url(url, save_as):\n",
        "    response = urllib.request.urlopen(url)\n",
        "    data = response.read()\n",
        "    file = open(save_as, 'wb')\n",
        "    file.write(data)\n",
        "    file.close()\n",
        "    response.close()\n",
        "    \n",
        "def read_binary_file(file):\n",
        "    f = open(file,'rb')\n",
        "    block = f.read()\n",
        "    return block.decode('utf-16')\n",
        "\n",
        "def split_text_in_lines(text):\n",
        "    return text.split('\\r\\n')\n",
        "\n",
        "def split_by_tabs(line):\n",
        "    return line.split('\\t')"
      ],
      "execution_count": null,
      "outputs": []
    },
    {
      "cell_type": "code",
      "metadata": {
        "id": "3dE1Jp9ib4hR"
      },
      "source": [
        "names_link = 'https://archive.ics.uci.edu/ml/machine-learning-databases/acute/diagnosis.names'\n",
        "data_link = 'https://archive.ics.uci.edu/ml/machine-learning-databases/acute/diagnosis.data'\n",
        "diagnosis_names = 'diagnosis.names'\n",
        "diagnosis_data = 'diagnosis.data'\n",
        "download_url(names_link, diagnosis_names)\n",
        "download_url(data_link, diagnosis_data)"
      ],
      "execution_count": null,
      "outputs": []
    },
    {
      "cell_type": "code",
      "metadata": {
        "id": "QSn3ZNXNb4kx"
      },
      "source": [
        "import numpy as np\n",
        "\n",
        "def parse_double(field):\n",
        "    field = field.replace(',', '.')\n",
        "    return float(field)\n",
        "\n",
        "def parse_boolean(field):\n",
        "    return 1. if field == 'yes' else 0.\n",
        "\n",
        "def read_np_array(file = diagnosis_data):\n",
        "    text = read_binary_file(file)\n",
        "    lines = split_text_in_lines(text)\n",
        "    rows = []\n",
        "    for line in lines:\n",
        "        if line == '': continue\n",
        "        line = line.replace('\\r\\n', '')\n",
        "        fields = split_by_tabs(line)\n",
        "        row = []\n",
        "        j = 0\n",
        "        for field in fields:\n",
        "            value = parse_double(field) if j == 0 else parse_boolean(field)\n",
        "            row.append(value)\n",
        "            j += 1\n",
        "        rows.append(row)\n",
        "    matrix = np.array(rows, dtype = np.float32)\n",
        "    return matrix\n"
      ],
      "execution_count": null,
      "outputs": []
    },
    {
      "cell_type": "code",
      "metadata": {
        "id": "xnpQfxXeb4n_"
      },
      "source": [
        "def get_random_indexes(n):\n",
        "    indexes = list(range(n))\n",
        "    random_indexes = []\n",
        "    for i in range(n):\n",
        "        r = np.random.randint(len(indexes))\n",
        "        random_indexes.append(indexes.pop(r))\n",
        "    return random_indexes\n",
        "\n",
        "def get_indexes_for_2_datasets(n, training = 80):\n",
        "    indexes = get_random_indexes(n)\n",
        "    train = int(training / 100. * n)\n",
        "    return indexes[:train], indexes[train:]\n",
        "\n",
        "matrix = read_np_array()\n",
        "n_samples, n_dimensions = matrix.shape\n",
        "\n",
        "train_indexes, test_indexes = get_indexes_for_2_datasets(n_samples)\n",
        "train_data = matrix[train_indexes]\n",
        "test_data = matrix[test_indexes]\n",
        "\n",
        "def print_dataset(name, data):\n",
        "    print('Dataset {}. Shape: {}'.format(name, data.shape))\n",
        "    print(data)"
      ],
      "execution_count": null,
      "outputs": []
    },
    {
      "cell_type": "code",
      "metadata": {
        "id": "ZkbSJl5-b4ql"
      },
      "source": [
        "import torch\n",
        "from torch.autograd import Variable\n",
        "import torch.nn as nn\n",
        "import torch.nn.functional as F\n",
        "from tqdm import tqdm as tqdm\n",
        "\n",
        "input_size = 6\n",
        "learning_rate = 0.01\n",
        "num_iterations = 10000\n",
        "\n",
        "class LogisticRegression(torch.nn.Module):\n",
        "\n",
        "    def __init__(self):\n",
        "        super(LogisticRegression, self).__init__()\n",
        "        self.linear = torch.nn.Linear(input_size, 1)\n",
        "\n",
        "    def forward(self, x):\n",
        "        return torch.sigmoid(self.linear(x))\n"
      ],
      "execution_count": null,
      "outputs": []
    },
    {
      "cell_type": "code",
      "metadata": {
        "id": "w5O4kKkMb4tP"
      },
      "source": [
        "def decide(y):\n",
        "    return 1. if y >= 0.5 else 0.\n",
        "\n",
        "decide_vectorized = np.vectorize(decide)\n",
        "\n",
        "to_percent = lambda x: '{:.2f}%'.format(x)\n",
        "\n",
        "\n"
      ],
      "execution_count": null,
      "outputs": []
    },
    {
      "cell_type": "code",
      "metadata": {
        "id": "CBjccKlfb4wk"
      },
      "source": [
        "def compute_accuracy(model, input, output):\n",
        "    #print(input.shape, output.shape)\n",
        "    prediction = model(input).detach().numpy()\n",
        "    #print(prediction.shape)\n",
        "    \n",
        "    #n_samples = prediction.shape[0] + 0.\n",
        "    prediction = decide_vectorized(prediction)\n",
        "    equal = prediction.reshape(-1,) == output.detach().numpy().reshape(-1,)\n",
        "    return 100. * np.mean(equal)\n",
        "\n"
      ],
      "execution_count": null,
      "outputs": []
    },
    {
      "cell_type": "code",
      "metadata": {
        "id": "2D7bMUhpb4zB"
      },
      "source": [
        "def get_input_and_output(data):\n",
        "    input = Variable(torch.tensor(data[:, :6], dtype = torch.float32))\n",
        "    output1 = Variable(torch.tensor(data[:, 6], dtype = torch.float32))\n",
        "    output2 = Variable(torch.tensor(data[:, 7], dtype = torch.float32))\n",
        "    return input, output1, output2\n",
        "\n",
        "input, output1, output2 = get_input_and_output(train_data)\n",
        "test_input, test_output1, test_output2 = get_input_and_output(test_data)\n",
        "\n"
      ],
      "execution_count": null,
      "outputs": []
    },
    {
      "cell_type": "code",
      "metadata": {
        "id": "D6chIyYOb417"
      },
      "source": [
        "import matplotlib.pyplot as plt\n",
        "%matplotlib inline\n",
        "\n",
        "diagnosis_title1 = 'Inflammation of Urinary Bladder'\n",
        "diagnosis_title2 = 'Nephritis of Renal Pelvis Origin'\n",
        "\n",
        "def plot_graphs(diagnosis_title, losses, accuracies):\n",
        "    plt.plot(losses)\n",
        "    plt.title(f\"{diagnosis_title}\")\n",
        "    plt.xlabel(\"Iterations\")\n",
        "    plt.ylabel(\"Training Loss\")\n",
        "    plt.show()\n",
        "    plt.plot(accuracies)\n",
        "    plt.title(f\"{diagnosis_title}\")\n",
        "    plt.xlabel(\"Iterations\")\n",
        "    plt.ylabel(\"Training Accuracy (Percent %)\")\n",
        "    plt.show()\n",
        "    \n"
      ],
      "execution_count": null,
      "outputs": []
    },
    {
      "cell_type": "code",
      "metadata": {
        "id": "5Gb6GI-9b45A"
      },
      "source": [
        "def train_model(diagnosis_title, input, output, test_input, test_output):\n",
        "    model = LogisticRegression()\n",
        "    criterion = torch.nn.BCELoss(size_average=True)\n",
        "    optimizer = torch.optim.SGD(model.parameters(), lr=learning_rate)  \n",
        "    losses = []\n",
        "    accuracies = []\n",
        "    n_samples, _ = input.shape\n",
        "    for iteration in tqdm(range(num_iterations)):\n",
        "            optimizer.zero_grad()\n",
        "            prediction = model(input)\n",
        "            #print(prediction.size(), output.size())\n",
        "            loss = criterion(prediction, output)\n",
        "            loss.backward()\n",
        "            optimizer.step()\n",
        "            if iteration % 500 == 0:\n",
        "                train_acc = compute_accuracy(model, input, output)\n",
        "                train_loss = loss.item()\n",
        "                losses.append(train_loss)\n",
        "                accuracies.append(train_acc)\n",
        "                print('iteration={}, loss={:.4f}, train_acc={}'.format(iteration, train_loss, to_percent(train_acc)))\n",
        "    plot_graphs(diagnosis_title, losses, accuracies)\n",
        "    test_acc = compute_accuracy(model, test_input, test_output)\n",
        "    print('\\nTesting Accuracy = {}'.format(to_percent(test_acc)))\n",
        "    return model"
      ],
      "execution_count": null,
      "outputs": []
    },
    {
      "cell_type": "code",
      "metadata": {
        "colab": {
          "base_uri": "https://localhost:8080/",
          "height": 1000
        },
        "id": "QSvsfyL1b47l",
        "outputId": "1fe3c653-2ad7-4af8-cce6-7c11d036fed5"
      },
      "source": [
        "model = train_model(diagnosis_title1, input, output1.view(-1,1), test_input, test_output1)"
      ],
      "execution_count": null,
      "outputs": [
        {
          "output_type": "stream",
          "text": [
            "/usr/local/lib/python3.7/dist-packages/torch/nn/_reduction.py:43: UserWarning: size_average and reduce args will be deprecated, please use reduction='mean' instead.\n",
            "  warnings.warn(warning.format(ret))\n",
            "  3%|▎         | 302/10000 [00:00<00:06, 1509.73it/s]"
          ],
          "name": "stderr"
        },
        {
          "output_type": "stream",
          "text": [
            "iteration=0, loss=4.0886, train_acc=51.04%\n"
          ],
          "name": "stdout"
        },
        {
          "output_type": "stream",
          "text": [
            "  7%|▋         | 748/10000 [00:00<00:06, 1489.99it/s]"
          ],
          "name": "stderr"
        },
        {
          "output_type": "stream",
          "text": [
            "iteration=500, loss=1.3633, train_acc=51.04%\n"
          ],
          "name": "stdout"
        },
        {
          "output_type": "stream",
          "text": [
            " 12%|█▏        | 1184/10000 [00:00<00:06, 1452.68it/s]"
          ],
          "name": "stderr"
        },
        {
          "output_type": "stream",
          "text": [
            "iteration=1000, loss=0.9134, train_acc=51.04%\n"
          ],
          "name": "stdout"
        },
        {
          "output_type": "stream",
          "text": [
            " 17%|█▋        | 1748/10000 [00:01<00:05, 1416.23it/s]"
          ],
          "name": "stderr"
        },
        {
          "output_type": "stream",
          "text": [
            "iteration=1500, loss=0.3533, train_acc=73.96%\n"
          ],
          "name": "stdout"
        },
        {
          "output_type": "stream",
          "text": [
            " 22%|██▏       | 2190/10000 [00:01<00:05, 1450.30it/s]"
          ],
          "name": "stderr"
        },
        {
          "output_type": "stream",
          "text": [
            "iteration=2000, loss=0.1821, train_acc=100.00%\n"
          ],
          "name": "stdout"
        },
        {
          "output_type": "stream",
          "text": [
            " 28%|██▊       | 2759/10000 [00:01<00:05, 1389.65it/s]"
          ],
          "name": "stderr"
        },
        {
          "output_type": "stream",
          "text": [
            "iteration=2500, loss=0.1641, train_acc=100.00%\n"
          ],
          "name": "stdout"
        },
        {
          "output_type": "stream",
          "text": [
            " 32%|███▏      | 3188/10000 [00:02<00:04, 1404.36it/s]"
          ],
          "name": "stderr"
        },
        {
          "output_type": "stream",
          "text": [
            "iteration=3000, loss=0.1496, train_acc=100.00%\n"
          ],
          "name": "stdout"
        },
        {
          "output_type": "stream",
          "text": [
            " 36%|███▋      | 3636/10000 [00:02<00:04, 1353.66it/s]"
          ],
          "name": "stderr"
        },
        {
          "output_type": "stream",
          "text": [
            "iteration=3500, loss=0.1378, train_acc=100.00%\n"
          ],
          "name": "stdout"
        },
        {
          "output_type": "stream",
          "text": [
            " 42%|████▏     | 4220/10000 [00:02<00:04, 1393.13it/s]"
          ],
          "name": "stderr"
        },
        {
          "output_type": "stream",
          "text": [
            "iteration=4000, loss=0.1278, train_acc=100.00%\n"
          ],
          "name": "stdout"
        },
        {
          "output_type": "stream",
          "text": [
            " 47%|████▋     | 4664/10000 [00:03<00:03, 1450.83it/s]"
          ],
          "name": "stderr"
        },
        {
          "output_type": "stream",
          "text": [
            "iteration=4500, loss=0.1193, train_acc=100.00%\n"
          ],
          "name": "stdout"
        },
        {
          "output_type": "stream",
          "text": [
            " 53%|█████▎    | 5287/10000 [00:03<00:03, 1525.70it/s]"
          ],
          "name": "stderr"
        },
        {
          "output_type": "stream",
          "text": [
            "iteration=5000, loss=0.1119, train_acc=100.00%\n"
          ],
          "name": "stdout"
        },
        {
          "output_type": "stream",
          "text": [
            " 58%|█████▊    | 5783/10000 [00:03<00:02, 1571.92it/s]"
          ],
          "name": "stderr"
        },
        {
          "output_type": "stream",
          "text": [
            "iteration=5500, loss=0.1054, train_acc=100.00%\n"
          ],
          "name": "stdout"
        },
        {
          "output_type": "stream",
          "text": [
            " 63%|██████▎   | 6259/10000 [00:04<00:02, 1540.70it/s]"
          ],
          "name": "stderr"
        },
        {
          "output_type": "stream",
          "text": [
            "iteration=6000, loss=0.0997, train_acc=100.00%\n"
          ],
          "name": "stdout"
        },
        {
          "output_type": "stream",
          "text": [
            " 67%|██████▋   | 6708/10000 [00:04<00:02, 1419.96it/s]"
          ],
          "name": "stderr"
        },
        {
          "output_type": "stream",
          "text": [
            "iteration=6500, loss=0.0945, train_acc=100.00%\n"
          ],
          "name": "stdout"
        },
        {
          "output_type": "stream",
          "text": [
            " 73%|███████▎  | 7311/10000 [00:05<00:01, 1495.59it/s]"
          ],
          "name": "stderr"
        },
        {
          "output_type": "stream",
          "text": [
            "iteration=7000, loss=0.0899, train_acc=100.00%\n"
          ],
          "name": "stdout"
        },
        {
          "output_type": "stream",
          "text": [
            " 78%|███████▊  | 7760/10000 [00:05<00:01, 1458.81it/s]"
          ],
          "name": "stderr"
        },
        {
          "output_type": "stream",
          "text": [
            "iteration=7500, loss=0.0858, train_acc=100.00%\n"
          ],
          "name": "stdout"
        },
        {
          "output_type": "stream",
          "text": [
            " 82%|████████▏ | 8207/10000 [00:05<00:01, 1464.28it/s]"
          ],
          "name": "stderr"
        },
        {
          "output_type": "stream",
          "text": [
            "iteration=8000, loss=0.0820, train_acc=100.00%\n"
          ],
          "name": "stdout"
        },
        {
          "output_type": "stream",
          "text": [
            " 87%|████████▋ | 8659/10000 [00:05<00:00, 1485.21it/s]"
          ],
          "name": "stderr"
        },
        {
          "output_type": "stream",
          "text": [
            "iteration=8500, loss=0.0785, train_acc=100.00%\n"
          ],
          "name": "stdout"
        },
        {
          "output_type": "stream",
          "text": [
            " 93%|█████████▎| 9288/10000 [00:06<00:00, 1469.34it/s]"
          ],
          "name": "stderr"
        },
        {
          "output_type": "stream",
          "text": [
            "iteration=9000, loss=0.0753, train_acc=100.00%\n"
          ],
          "name": "stdout"
        },
        {
          "output_type": "stream",
          "text": [
            " 97%|█████████▋| 9740/10000 [00:06<00:00, 1492.90it/s]"
          ],
          "name": "stderr"
        },
        {
          "output_type": "stream",
          "text": [
            "iteration=9500, loss=0.0724, train_acc=100.00%\n"
          ],
          "name": "stdout"
        },
        {
          "output_type": "stream",
          "text": [
            "100%|██████████| 10000/10000 [00:06<00:00, 1457.62it/s]\n"
          ],
          "name": "stderr"
        },
        {
          "output_type": "display_data",
          "data": {
            "image/png": "[encoded data removed]",
            "text/plain": [
              "<Figure size 432x288 with 1 Axes>"
            ]
          },
          "metadata": {
            "tags": [],
            "needs_background": "light"
          }
        },
        {
          "output_type": "display_data",
          "data": {
            "image/png": "[encoded data removed]",
            "text/plain": [
              "<Figure size 432x288 with 1 Axes>"
            ]
          },
          "metadata": {
            "tags": [],
            "needs_background": "light"
          }
        },
        {
          "output_type": "stream",
          "text": [
            "\n",
            "Testing Accuracy = 100.00%\n"
          ],
          "name": "stdout"
        }
      ]
    },
    {
      "cell_type": "code",
      "metadata": {
        "colab": {
          "base_uri": "https://localhost:8080/",
          "height": 1000
        },
        "id": "k_hf7ugub4-p",
        "outputId": "e63dc285-3d75-491d-b9bb-66f5014b3fea"
      },
      "source": [
        "model = train_model(diagnosis_title2, input, output2.view(-1,1), test_input, test_output2)"
      ],
      "execution_count": null,
      "outputs": [
        {
          "output_type": "stream",
          "text": [
            "/usr/local/lib/python3.7/dist-packages/torch/nn/_reduction.py:43: UserWarning: size_average and reduce args will be deprecated, please use reduction='mean' instead.\n",
            "  warnings.warn(warning.format(ret))\n",
            "  3%|▎         | 315/10000 [00:00<00:06, 1597.73it/s]"
          ],
          "name": "stderr"
        },
        {
          "output_type": "stream",
          "text": [
            "iteration=0, loss=6.1981, train_acc=43.75%\n"
          ],
          "name": "stdout"
        },
        {
          "output_type": "stream",
          "text": [
            "  7%|▋         | 742/10000 [00:00<00:06, 1447.94it/s]"
          ],
          "name": "stderr"
        },
        {
          "output_type": "stream",
          "text": [
            "iteration=500, loss=1.7224, train_acc=43.75%\n"
          ],
          "name": "stdout"
        },
        {
          "output_type": "stream",
          "text": [
            " 12%|█▏        | 1168/10000 [00:00<00:06, 1439.42it/s]"
          ],
          "name": "stderr"
        },
        {
          "output_type": "stream",
          "text": [
            "iteration=1000, loss=1.2993, train_acc=43.75%\n"
          ],
          "name": "stdout"
        },
        {
          "output_type": "stream",
          "text": [
            " 18%|█▊        | 1760/10000 [00:01<00:05, 1467.55it/s]"
          ],
          "name": "stderr"
        },
        {
          "output_type": "stream",
          "text": [
            "iteration=1500, loss=0.8150, train_acc=52.08%\n"
          ],
          "name": "stdout"
        },
        {
          "output_type": "stream",
          "text": [
            " 22%|██▏       | 2213/10000 [00:01<00:05, 1433.34it/s]"
          ],
          "name": "stderr"
        },
        {
          "output_type": "stream",
          "text": [
            "iteration=2000, loss=0.2870, train_acc=85.42%\n"
          ],
          "name": "stdout"
        },
        {
          "output_type": "stream",
          "text": [
            " 28%|██▊       | 2788/10000 [00:01<00:05, 1420.96it/s]"
          ],
          "name": "stderr"
        },
        {
          "output_type": "stream",
          "text": [
            "iteration=2500, loss=0.1887, train_acc=100.00%\n"
          ],
          "name": "stdout"
        },
        {
          "output_type": "stream",
          "text": [
            " 32%|███▏      | 3248/10000 [00:02<00:04, 1488.51it/s]"
          ],
          "name": "stderr"
        },
        {
          "output_type": "stream",
          "text": [
            "iteration=3000, loss=0.1732, train_acc=100.00%\n"
          ],
          "name": "stdout"
        },
        {
          "output_type": "stream",
          "text": [
            " 37%|███▋      | 3693/10000 [00:02<00:04, 1423.42it/s]"
          ],
          "name": "stderr"
        },
        {
          "output_type": "stream",
          "text": [
            "iteration=3500, loss=0.1604, train_acc=100.00%\n"
          ],
          "name": "stdout"
        },
        {
          "output_type": "stream",
          "text": [
            " 43%|████▎     | 4298/10000 [00:02<00:03, 1495.03it/s]"
          ],
          "name": "stderr"
        },
        {
          "output_type": "stream",
          "text": [
            "iteration=4000, loss=0.1497, train_acc=100.00%\n"
          ],
          "name": "stdout"
        },
        {
          "output_type": "stream",
          "text": [
            " 48%|████▊     | 4751/10000 [00:03<00:03, 1485.50it/s]"
          ],
          "name": "stderr"
        },
        {
          "output_type": "stream",
          "text": [
            "iteration=4500, loss=0.1405, train_acc=100.00%\n"
          ],
          "name": "stdout"
        },
        {
          "output_type": "stream",
          "text": [
            " 52%|█████▏    | 5204/10000 [00:03<00:03, 1490.30it/s]"
          ],
          "name": "stderr"
        },
        {
          "output_type": "stream",
          "text": [
            "iteration=5000, loss=0.1325, train_acc=100.00%\n"
          ],
          "name": "stdout"
        },
        {
          "output_type": "stream",
          "text": [
            " 57%|█████▋    | 5656/10000 [00:03<00:02, 1474.02it/s]"
          ],
          "name": "stderr"
        },
        {
          "output_type": "stream",
          "text": [
            "iteration=5500, loss=0.1254, train_acc=100.00%\n"
          ],
          "name": "stdout"
        },
        {
          "output_type": "stream",
          "text": [
            " 63%|██████▎   | 6256/10000 [00:04<00:02, 1484.02it/s]"
          ],
          "name": "stderr"
        },
        {
          "output_type": "stream",
          "text": [
            "iteration=6000, loss=0.1192, train_acc=100.00%\n"
          ],
          "name": "stdout"
        },
        {
          "output_type": "stream",
          "text": [
            " 67%|██████▋   | 6701/10000 [00:04<00:02, 1437.62it/s]"
          ],
          "name": "stderr"
        },
        {
          "output_type": "stream",
          "text": [
            "iteration=6500, loss=0.1136, train_acc=100.00%\n"
          ],
          "name": "stdout"
        },
        {
          "output_type": "stream",
          "text": [
            " 71%|███████▏  | 7145/10000 [00:04<00:01, 1428.39it/s]"
          ],
          "name": "stderr"
        },
        {
          "output_type": "stream",
          "text": [
            "iteration=7000, loss=0.1085, train_acc=100.00%\n"
          ],
          "name": "stdout"
        },
        {
          "output_type": "stream",
          "text": [
            " 78%|███████▊  | 7766/10000 [00:05<00:01, 1485.27it/s]"
          ],
          "name": "stderr"
        },
        {
          "output_type": "stream",
          "text": [
            "iteration=7500, loss=0.1039, train_acc=100.00%\n"
          ],
          "name": "stdout"
        },
        {
          "output_type": "stream",
          "text": [
            " 82%|████████▏ | 8220/10000 [00:05<00:01, 1496.13it/s]"
          ],
          "name": "stderr"
        },
        {
          "output_type": "stream",
          "text": [
            "iteration=8000, loss=0.0997, train_acc=100.00%\n"
          ],
          "name": "stdout"
        },
        {
          "output_type": "stream",
          "text": [
            " 87%|████████▋ | 8678/10000 [00:05<00:00, 1508.21it/s]"
          ],
          "name": "stderr"
        },
        {
          "output_type": "stream",
          "text": [
            "iteration=8500, loss=0.0958, train_acc=100.00%\n"
          ],
          "name": "stdout"
        },
        {
          "output_type": "stream",
          "text": [
            " 93%|█████████▎| 9302/10000 [00:06<00:00, 1542.43it/s]"
          ],
          "name": "stderr"
        },
        {
          "output_type": "stream",
          "text": [
            "iteration=9000, loss=0.0923, train_acc=100.00%\n"
          ],
          "name": "stdout"
        },
        {
          "output_type": "stream",
          "text": [
            " 98%|█████████▊| 9764/10000 [00:06<00:00, 1489.79it/s]"
          ],
          "name": "stderr"
        },
        {
          "output_type": "stream",
          "text": [
            "iteration=9500, loss=0.0890, train_acc=100.00%\n"
          ],
          "name": "stdout"
        },
        {
          "output_type": "stream",
          "text": [
            "100%|██████████| 10000/10000 [00:06<00:00, 1464.37it/s]\n"
          ],
          "name": "stderr"
        },
        {
          "output_type": "display_data",
          "data": {
            "image/png": "[encoded data removed]",
            "text/plain": [
              "<Figure size 432x288 with 1 Axes>"
            ]
          },
          "metadata": {
            "tags": [],
            "needs_background": "light"
          }
        },
        {
          "output_type": "display_data",
          "data": {
            "image/png": "[encoded data removed]",
            "text/plain": [
              "<Figure size 432x288 with 1 Axes>"
            ]
          },
          "metadata": {
            "tags": [],
            "needs_background": "light"
          }
        },
        {
          "output_type": "stream",
          "text": [
            "\n",
            "Testing Accuracy = 100.00%\n"
          ],
          "name": "stdout"
        }
      ]
    },
    {
      "cell_type": "markdown",
      "metadata": {
        "id": "bwcf1yPMbPDv"
      },
      "source": [
        "## Implementing Federated Learning with FedAvg Algorithm"
      ]
    },
    {
      "cell_type": "code",
      "metadata": {
        "id": "QCutNy6LV3m-"
      },
      "source": [
        "assert True is True"
      ],
      "execution_count": null,
      "outputs": []
    },
    {
      "cell_type": "code",
      "metadata": {
        "colab": {
          "base_uri": "https://localhost:8080/",
          "height": 1000
        },
        "id": "76UBALTvYcz5",
        "outputId": "c5ef3a5c-dd52-406d-803d-32695389ead9"
      },
      "source": [
        "!pip install syft==\"0.2.2a1\"\n",
        "!pip install syft_proto==\"0.1.1a1.post17\""
      ],
      "execution_count": null,
      "outputs": [
        {
          "output_type": "stream",
          "text": [
            "Collecting syft==0.2.2a1\n",
            "\u001b[?25l  Downloading https://files.pythonhosted.org/packages/8a/3e/d9307f7e183205e19cac0e206fb6de5fb495724835bb91805311a5583c68/syft-0.2.2a1-py3-none-any.whl (337kB)\n",
            "\u001b[K     |████████████████████████████████| 337kB 5.0MB/s \n",
            "\u001b[?25hRequirement already satisfied: tblib>=1.4.0 in /usr/local/lib/python3.7/dist-packages (from syft==0.2.2a1) (1.7.0)\n",
            "Collecting zstd>=1.4.0.0\n",
            "\u001b[?25l  Downloading https://files.pythonhosted.org/packages/4c/e9/d519bfa2113a3a5b27f747e8cd4cec18a2b860e413b69bd3e445d9aba003/zstd-1.5.0.2.tar.gz (528kB)\n",
            "\u001b[K     |████████████████████████████████| 532kB 9.9MB/s \n",
            "\u001b[?25hCollecting syft-proto>=0.1.0a1.post23\n",
            "\u001b[?25l  Downloading https://files.pythonhosted.org/packages/da/88/67edf7836ac4eab723416933cd663c4f87753d3ff31337f91701c0b75474/syft_proto-0.5.3-py3-none-any.whl (66kB)\n",
            "\u001b[K     |████████████████████████████████| 71kB 6.1MB/s \n",
            "\u001b[?25hRequirement already satisfied: msgpack>=0.6.1 in /usr/local/lib/python3.7/dist-packages (from syft==0.2.2a1) (1.0.2)\n",
            "Collecting Pillow<7\n",
            "\u001b[?25l  Downloading https://files.pythonhosted.org/packages/c3/3f/03375124676ab49ca6e6917c0f1f663afb8354d5d24e12f4fe4587a39ae2/Pillow-6.2.2-cp37-cp37m-manylinux1_x86_64.whl (2.1MB)\n",
            "\u001b[K     |████████████████████████████████| 2.1MB 17.0MB/s \n",
            "\u001b[?25hRequirement already satisfied: Flask>=1.0.2 in /usr/local/lib/python3.7/dist-packages (from syft==0.2.2a1) (1.1.4)\n",
            "Collecting lz4>=2.1.6\n",
            "\u001b[?25l  Downloading https://files.pythonhosted.org/packages/e3/52/151c815a486290608e4dc6699a0cfd74141dc5191f8fe928e7d1b28b569e/lz4-3.1.3-cp37-cp37m-manylinux2010_x86_64.whl (1.8MB)\n",
            "\u001b[K     |████████████████████████████████| 1.8MB 28.8MB/s \n",
            "\u001b[?25hCollecting websockets>=7.0\n",
            "\u001b[?25l  Downloading https://files.pythonhosted.org/packages/84/64/78c2b3fe37730b30dca3c93d1f7f4a4286767f86e7c04cf3571b39bc2fb7/websockets-9.1-cp37-cp37m-manylinux2010_x86_64.whl (103kB)\n",
            "\u001b[K     |████████████████████████████████| 112kB 51.9MB/s \n",
            "\u001b[?25hCollecting flask-socketio>=3.3.2\n",
            "  Downloading https://files.pythonhosted.org/packages/6b/c3/bfb4b908263f14a69e3781b0d3d19037f67c006c83b55db37669264cbecc/Flask_SocketIO-5.1.0-py2.py3-none-any.whl\n",
            "Collecting torchvision==0.4.1\n",
            "\u001b[?25l  Downloading https://files.pythonhosted.org/packages/72/b9/5e22c25a201b80cd599af910200b66872af5f5404a13dc76e9ce1a988bed/torchvision-0.4.1-cp37-cp37m-manylinux1_x86_64.whl (10.1MB)\n",
            "\u001b[K     |████████████████████████████████| 10.2MB 48.2MB/s \n",
            "\u001b[?25hCollecting torch==1.3\n",
            "\u001b[?25l  Downloading https://files.pythonhosted.org/packages/b4/0b/9d33aef363b6728ad937643d98be713c6c25d50ce338678ad57cee6e6fd5/torch-1.3.0-cp37-cp37m-manylinux1_x86_64.whl (773.1MB)\n",
            "\u001b[K     |████████████████████████████████| 773.1MB 22kB/s \n",
            "\u001b[?25hCollecting phe>=1.4.0\n",
            "  Downloading https://files.pythonhosted.org/packages/32/0e/568e97b014eb14e794a1258a341361e9da351dc6240c63b89e1541e3341c/phe-1.4.0.tar.gz\n",
            "Collecting websocket-client>=0.56.0\n",
            "\u001b[?25l  Downloading https://files.pythonhosted.org/packages/ca/5f/3c211d168b2e9f9342cfb53bcfc26aab0eac63b998015e7af7bcae66119d/websocket_client-1.1.0-py2.py3-none-any.whl (68kB)\n",
            "\u001b[K     |████████████████████████████████| 71kB 7.3MB/s \n",
            "\u001b[?25hRequirement already satisfied: numpy>=1.16.0 in /usr/local/lib/python3.7/dist-packages (from syft==0.2.2a1) (1.19.5)\n",
            "Requirement already satisfied: scipy>=1.4.1 in /usr/local/lib/python3.7/dist-packages (from syft==0.2.2a1) (1.4.1)\n",
            "Requirement already satisfied: protobuf>=3.12.2 in /usr/local/lib/python3.7/dist-packages (from syft-proto>=0.1.0a1.post23->syft==0.2.2a1) (3.12.4)\n",
            "Requirement already satisfied: Jinja2<3.0,>=2.10.1 in /usr/local/lib/python3.7/dist-packages (from Flask>=1.0.2->syft==0.2.2a1) (2.11.3)\n",
            "Requirement already satisfied: itsdangerous<2.0,>=0.24 in /usr/local/lib/python3.7/dist-packages (from Flask>=1.0.2->syft==0.2.2a1) (1.1.0)\n",
            "Requirement already satisfied: click<8.0,>=5.1 in /usr/local/lib/python3.7/dist-packages (from Flask>=1.0.2->syft==0.2.2a1) (7.1.2)\n",
            "Requirement already satisfied: Werkzeug<2.0,>=0.15 in /usr/local/lib/python3.7/dist-packages (from Flask>=1.0.2->syft==0.2.2a1) (1.0.1)\n",
            "Collecting python-socketio>=5.0.2\n",
            "\u001b[?25l  Downloading https://files.pythonhosted.org/packages/d9/e8/00978e9a578e0727c902efaf69ee98be702adee61c9d2966e0eec257d0a3/python_socketio-5.3.0-py2.py3-none-any.whl (53kB)\n",
            "\u001b[K     |████████████████████████████████| 61kB 6.5MB/s \n",
            "\u001b[?25hRequirement already satisfied: six in /usr/local/lib/python3.7/dist-packages (from torchvision==0.4.1->syft==0.2.2a1) (1.15.0)\n",
            "Requirement already satisfied: setuptools in /usr/local/lib/python3.7/dist-packages (from protobuf>=3.12.2->syft-proto>=0.1.0a1.post23->syft==0.2.2a1) (57.0.0)\n",
            "Requirement already satisfied: MarkupSafe>=0.23 in /usr/local/lib/python3.7/dist-packages (from Jinja2<3.0,>=2.10.1->Flask>=1.0.2->syft==0.2.2a1) (2.0.1)\n",
            "Collecting python-engineio>=4.1.0\n",
            "\u001b[?25l  Downloading https://files.pythonhosted.org/packages/07/2b/d51f2ddd6e4a4b8aca044b23a16ca1ab0d47cc7a4b0b99dab4f047780795/python_engineio-4.2.0-py2.py3-none-any.whl (51kB)\n",
            "\u001b[K     |████████████████████████████████| 61kB 6.9MB/s \n",
            "\u001b[?25hCollecting bidict>=0.21.0\n",
            "  Downloading https://files.pythonhosted.org/packages/67/d4/eaf9242722bf991e0955380dd6168020cb15a71cc0d3cc2373f4911b1f1d/bidict-0.21.2-py2.py3-none-any.whl\n",
            "Building wheels for collected packages: zstd, phe\n",
            "  Building wheel for zstd (setup.py) ... \u001b[?25l\u001b[?25hdone\n",
            "  Created wheel for zstd: filename=zstd-1.5.0.2-cp37-cp37m-linux_x86_64.whl size=1672601 sha256=e8ccf1756cc80faa173df3773e91440f29d04ee9f84a762c71dd0b1bda48d4f6\n",
            "  Stored in directory: /root/.cache/pip/wheels/de/94/60/9664cd21af20b4d63068fd1b6271951207947cd1a4085fcf97\n",
            "  Building wheel for phe (setup.py) ... \u001b[?25l\u001b[?25hdone\n",
            "  Created wheel for phe: filename=phe-1.4.0-py2.py3-none-any.whl size=37362 sha256=aa868470724b8f44488ac18510152c5713c0ff152420f044cf522ac0b851e1f1\n",
            "  Stored in directory: /root/.cache/pip/wheels/f8/dc/36/dcb6bf0f1b9907e7b710ace63e64d08e7022340909315fdea4\n",
            "Successfully built zstd phe\n",
            "\u001b[31mERROR: torchtext 0.10.0 has requirement torch==1.9.0, but you'll have torch 1.3.0 which is incompatible.\u001b[0m\n",
            "\u001b[31mERROR: bokeh 2.3.2 has requirement pillow>=7.1.0, but you'll have pillow 6.2.2 which is incompatible.\u001b[0m\n",
            "\u001b[31mERROR: albumentations 0.1.12 has requirement imgaug<0.2.7,>=0.2.5, but you'll have imgaug 0.2.9 which is incompatible.\u001b[0m\n",
            "Installing collected packages: zstd, syft-proto, Pillow, lz4, websockets, python-engineio, bidict, python-socketio, flask-socketio, torch, torchvision, phe, websocket-client, syft\n",
            "  Found existing installation: Pillow 7.1.2\n",
            "    Uninstalling Pillow-7.1.2:\n",
            "      Successfully uninstalled Pillow-7.1.2\n",
            "  Found existing installation: torch 1.9.0+cu102\n",
            "    Uninstalling torch-1.9.0+cu102:\n",
            "      Successfully uninstalled torch-1.9.0+cu102\n",
            "  Found existing installation: torchvision 0.10.0+cu102\n",
            "    Uninstalling torchvision-0.10.0+cu102:\n",
            "      Successfully uninstalled torchvision-0.10.0+cu102\n",
            "Successfully installed Pillow-6.2.2 bidict-0.21.2 flask-socketio-5.1.0 lz4-3.1.3 phe-1.4.0 python-engineio-4.2.0 python-socketio-5.3.0 syft-0.2.2a1 syft-proto-0.5.3 torch-1.3.0 torchvision-0.4.1 websocket-client-1.1.0 websockets-9.1 zstd-1.5.0.2\n"
          ],
          "name": "stdout"
        },
        {
          "output_type": "display_data",
          "data": {
            "application/vnd.colab-display-data+json": {
              "pip_warning": {
                "packages": [
                  "PIL"
                ]
              }
            }
          },
          "metadata": {
            "tags": []
          }
        },
        {
          "output_type": "stream",
          "text": [
            "Collecting syft_proto==0.1.1a1.post17\n",
            "\u001b[?25l  Downloading https://files.pythonhosted.org/packages/e8/50/f5d1d0356468edd7571962789a8b426037033d79017f24602690220e5ab0/syft_proto-0.1.1a1.post17-py3-none-any.whl (40kB)\n",
            "\r\u001b[K     |████████▏                       | 10kB 13.7MB/s eta 0:00:01\r\u001b[K     |████████████████▍               | 20kB 19.0MB/s eta 0:00:01\r\u001b[K     |████████████████████████▌       | 30kB 11.6MB/s eta 0:00:01\r\u001b[K     |████████████████████████████████| 40kB 3.4MB/s \n",
            "\u001b[?25hRequirement already satisfied: protobuf>=3.11.1 in /usr/local/lib/python3.7/dist-packages (from syft_proto==0.1.1a1.post17) (3.12.4)\n",
            "Requirement already satisfied: six>=1.9 in /usr/local/lib/python3.7/dist-packages (from protobuf>=3.11.1->syft_proto==0.1.1a1.post17) (1.15.0)\n",
            "Requirement already satisfied: setuptools in /usr/local/lib/python3.7/dist-packages (from protobuf>=3.11.1->syft_proto==0.1.1a1.post17) (57.0.0)\n",
            "Installing collected packages: syft-proto\n",
            "  Found existing installation: syft-proto 0.5.3\n",
            "    Uninstalling syft-proto-0.5.3:\n",
            "      Successfully uninstalled syft-proto-0.5.3\n",
            "Successfully installed syft-proto-0.1.1a1.post17\n"
          ],
          "name": "stdout"
        }
      ]
    },
    {
      "cell_type": "code",
      "metadata": {
        "id": "OORsMm7lYIwK"
      },
      "source": [
        "import sys\n",
        "import pytest\n",
        "import syft as sy"
      ],
      "execution_count": null,
      "outputs": []
    },
    {
      "cell_type": "code",
      "metadata": {
        "id": "Wg4obNjEa9lS"
      },
      "source": [
        "import torch as th\n",
        "hook = sy.TorchHook(th)\n",
        "from torch import nn, optim"
      ],
      "execution_count": null,
      "outputs": []
    },
    {
      "cell_type": "code",
      "metadata": {
        "id": "nGNfzhaXbAwE"
      },
      "source": [
        "n_hospitals = 2\n",
        "hospitals = []\n",
        "for i in range(n_hospitals):\n",
        "    hospital_name = 'hospital{}'.format(i)\n",
        "    hospital = sy.VirtualWorker(hook, id = hospital_name)\n",
        "    hospitals.append(hospital)\n",
        "secure_worker = sy.VirtualWorker(hook, id=\"secure_worker\")"
      ],
      "execution_count": null,
      "outputs": []
    },
    {
      "cell_type": "code",
      "metadata": {
        "id": "awZiUcZSbAzZ"
      },
      "source": [
        "def get_workers_names(workers):\n",
        "    return [worker.id for worker in workers]"
      ],
      "execution_count": null,
      "outputs": []
    },
    {
      "cell_type": "code",
      "metadata": {
        "id": "Koqg2G16bA2X"
      },
      "source": [
        "def add_and_print_workers(worker, workers):\n",
        "    print('workers of {} = {}'.format(worker.id, get_workers_names(workers)))\n",
        "    worker.add_workers(workers)"
      ],
      "execution_count": null,
      "outputs": []
    },
    {
      "cell_type": "code",
      "metadata": {
        "colab": {
          "base_uri": "https://localhost:8080/"
        },
        "id": "oOjufty1bA5T",
        "outputId": "6d8abb4a-2838-431f-811e-c68122a72268"
      },
      "source": [
        "for i in range(n_hospitals):\n",
        "    workers = [hospitals[i2] for i2 in range(n_hospitals) if i2 != i] + [secure_worker]\n",
        "    add_and_print_workers(hospitals[i], workers)\n",
        "add_and_print_workers(secure_worker, hospitals)"
      ],
      "execution_count": null,
      "outputs": [
        {
          "output_type": "stream",
          "text": [
            "Worker hospital1 already exists. Replacing old worker which could cause                     unexpected behavior\n",
            "Worker secure_worker already exists. Replacing old worker which could cause                     unexpected behavior\n",
            "Worker hospital0 already exists. Replacing old worker which could cause                     unexpected behavior\n",
            "Worker secure_worker already exists. Replacing old worker which could cause                     unexpected behavior\n",
            "Worker hospital0 already exists. Replacing old worker which could cause                     unexpected behavior\n",
            "Worker hospital1 already exists. Replacing old worker which could cause                     unexpected behavior\n"
          ],
          "name": "stderr"
        },
        {
          "output_type": "stream",
          "text": [
            "workers of hospital0 = ['hospital1', 'secure_worker']\n",
            "workers of hospital1 = ['hospital0', 'secure_worker']\n",
            "workers of secure_worker = ['hospital0', 'hospital1']\n"
          ],
          "name": "stdout"
        }
      ]
    },
    {
      "cell_type": "code",
      "metadata": {
        "colab": {
          "base_uri": "https://localhost:8080/"
        },
        "id": "tBcRTww8bA8N",
        "outputId": "ba020f14-776e-4084-f8b0-485f7d5fdf17"
      },
      "source": [
        "n_samples = train_data.shape[0]\n",
        "samples_per_hospital = int((n_samples + 0.5) / n_hospitals)\n",
        "hospital_features = []\n",
        "hospital_targets1 = []\n",
        "hospital_targets2 = []\n",
        "train_data = th.tensor(train_data, dtype = torch.float32, requires_grad=True)\n",
        "for i in range(n_hospitals):\n",
        "    train_data2 = train_data[i * samples_per_hospital:(i + 1) * samples_per_hospital].clone().detach().requires_grad_(True)\n",
        "    features = train_data2[:, :6].clone().detach().requires_grad_(True)\n",
        "    targets1 = train_data2[:, 6][:, None].clone().detach() \n",
        "    targets2 = train_data2[:, 7][:, None].clone().detach() \n",
        "    hospital_features.append(features.send(hospitals[i]))\n",
        "    hospital_targets1.append(targets1.send(hospitals[i]))\n",
        "    hospital_targets2.append(targets2.send(hospitals[i]))\n",
        "\n",
        "print(model)"
      ],
      "execution_count": null,
      "outputs": [
        {
          "output_type": "stream",
          "text": [
            "LogisticRegression(\n",
            "  (linear): Linear(in_features=6, out_features=1, bias=True)\n",
            ")\n"
          ],
          "name": "stdout"
        }
      ]
    },
    {
      "cell_type": "code",
      "metadata": {
        "id": "XH1yhRJvbA_K"
      },
      "source": [
        "def plot_federated_graphs(diagnosis_title, losses, accuracies):\n",
        "    for i in range(n_hospitals):\n",
        "        plt.plot(losses[i], label=f'Hospital {i}')\n",
        "    legend = plt.legend(loc='upper right', shadow=True)\n",
        "    plt.title(f\"{diagnosis_title}\")\n",
        "    plt.xlabel(\"Iterations\")\n",
        "    plt.ylabel(\"Training Loss\")\n",
        "    plt.show()\n",
        "    for i in range(n_hospitals):\n",
        "        plt.plot(accuracies[i], label=f'Hospital {i}')\n",
        "    legend = plt.legend(loc='lower right', shadow=True)\n",
        "    plt.title(f\"{diagnosis_title}\")\n",
        "    plt.xlabel(\"Iterations\")\n",
        "    plt.ylabel(\"Training Accuracy (%)\")\n",
        "    plt.show()\n",
        "    "
      ],
      "execution_count": null,
      "outputs": []
    },
    {
      "cell_type": "code",
      "metadata": {
        "id": "3oOMtB2FbBB8"
      },
      "source": [
        "def compute_federated_accuracy(model, input, output):\n",
        "    prediction = model(input)\n",
        "    n_samples = prediction.shape[0]\n",
        "    s = 0.\n",
        "    for i in range(n_samples):\n",
        "        p = 1. if prediction[i] >= 0.5 else 0.\n",
        "        e = 1. if p == output[i] else 0.\n",
        "        s += e\n",
        "    return 100. * s / n_samples\n"
      ],
      "execution_count": null,
      "outputs": []
    },
    {
      "cell_type": "code",
      "metadata": {
        "id": "kNiodggpbBEo"
      },
      "source": [
        "iterations = 100 #2000\n",
        "worker_iterations = 100\n",
        "\n",
        "def federated_learning(diagnosis_title, hospital_features, hospital_targets, test_input, test_output):\n",
        "    model = LogisticRegression()\n",
        "    criterion = torch.nn.BCELoss(size_average=True)\n",
        "    optimizer = torch.optim.SGD(model.parameters(), lr=learning_rate)  \n",
        "    losses = [[] for i in range(n_hospitals)]\n",
        "    accuracies = [[] for i in range(n_hospitals)]\n",
        "    for iteration in range(iterations):\n",
        "        models = [model.copy().send(hospitals[i]) for i in range(n_hospitals)]\n",
        "        optimizers = [torch.optim.SGD(params = models[i].parameters(), lr = learning_rate) for i in range(n_hospitals)]\n",
        "        for worker_iteration in range(worker_iterations):\n",
        "            last_losses = []\n",
        "            for i in range(n_hospitals):\n",
        "                optimizers[i].zero_grad()\n",
        "                prediction = models[i](hospital_features[i])\n",
        "                loss = criterion(prediction, hospital_targets[i])\n",
        "                loss.backward()\n",
        "                optimizers[i].step()\n",
        "                loss = loss.get().data.item()\n",
        "                last_losses.append(loss)\n",
        "        for i in range(n_hospitals):\n",
        "            losses[i].append(last_losses[i])\n",
        "            train_acc = compute_federated_accuracy(models[i], hospital_features[i], hospital_targets[i])\n",
        "            accuracies[i].append(train_acc)\n",
        "            models[i].move(secure_worker)\n",
        "        with th.no_grad():\n",
        "            avg_weight = sum([models[i].linear.weight.data for i in range(n_hospitals)]) / n_hospitals\n",
        "            model.linear.weight.set_(avg_weight.get())\n",
        "            avg_bias = sum([models[i].linear.bias.data for i in range(n_hospitals)]) / n_hospitals\n",
        "            model.linear.bias.set_(avg_bias.get())\n",
        "        if iteration % 10 == 0:\n",
        "            losses_str = ['{:.4f}'.format(losses[i][-1]) for i in range(n_hospitals)]\n",
        "            accuracies_str = [to_percent(accuracies[i][-1]) for i in range(n_hospitals)]\n",
        "            print('Iteration={}, losses={}, accuracies={}'.format(iteration, losses_str, accuracies_str))\n",
        "    plot_federated_graphs(diagnosis_title, losses, accuracies)\n",
        "    test_acc = compute_accuracy(model, test_input, test_output)\n",
        "    print('\\nTesting Accuracy = {}'.format(to_percent(test_acc)))\n",
        "    return model"
      ],
      "execution_count": null,
      "outputs": []
    },
    {
      "cell_type": "code",
      "metadata": {
        "colab": {
          "base_uri": "https://localhost:8080/",
          "height": 836
        },
        "id": "2Sd-QwrbbBHk",
        "outputId": "401fa937-87d1-4024-d0ca-15e71ca36e79"
      },
      "source": [
        "model = federated_learning(diagnosis_title1, hospital_features, hospital_targets1, test_input, test_output1)"
      ],
      "execution_count": null,
      "outputs": [
        {
          "output_type": "stream",
          "text": [
            "/usr/local/lib/python3.7/dist-packages/torch/nn/_reduction.py:43: UserWarning: size_average and reduce args will be deprecated, please use reduction='mean' instead.\n",
            "  warnings.warn(warning.format(ret))\n"
          ],
          "name": "stderr"
        },
        {
          "output_type": "stream",
          "text": [
            "Iteration=0, losses=['2.0394', '0.7123'], accuracies=['41.67%', '60.42%']\n",
            "Iteration=10, losses=['0.9124', '0.5001'], accuracies=['54.17%', '60.42%']\n",
            "Iteration=20, losses=['0.1647', '0.1788'], accuracies=['97.92%', '100.00%']\n",
            "Iteration=30, losses=['0.1360', '0.1495'], accuracies=['100.00%', '100.00%']\n",
            "Iteration=40, losses=['0.1167', '0.1287'], accuracies=['100.00%', '100.00%']\n",
            "Iteration=50, losses=['0.1026', '0.1132'], accuracies=['100.00%', '100.00%']\n",
            "Iteration=60, losses=['0.0917', '0.1010'], accuracies=['100.00%', '100.00%']\n",
            "Iteration=70, losses=['0.0831', '0.0911'], accuracies=['100.00%', '100.00%']\n",
            "Iteration=80, losses=['0.0761', '0.0831'], accuracies=['100.00%', '100.00%']\n",
            "Iteration=90, losses=['0.0702', '0.0763'], accuracies=['100.00%', '100.00%']\n"
          ],
          "name": "stdout"
        },
        {
          "output_type": "display_data",
          "data": {
            "image/png": "[encoded data removed]",
            "text/plain": [
              "<Figure size 432x288 with 1 Axes>"
            ]
          },
          "metadata": {
            "tags": [],
            "needs_background": "light"
          }
        },
        {
          "output_type": "display_data",
          "data": {
            "image/png": "[encoded data removed]",
            "text/plain": [
              "<Figure size 432x288 with 1 Axes>"
            ]
          },
          "metadata": {
            "tags": [],
            "needs_background": "light"
          }
        },
        {
          "output_type": "stream",
          "text": [
            "\n",
            "Testing Accuracy = 100.00%\n"
          ],
          "name": "stdout"
        }
      ]
    },
    {
      "cell_type": "code",
      "metadata": {
        "id": "RU8grQ5MbBM0",
        "colab": {
          "base_uri": "https://localhost:8080/",
          "height": 836
        },
        "outputId": "03c3dfe4-7b7d-487d-f751-984c974cc702"
      },
      "source": [
        "model = federated_learning(diagnosis_title2, hospital_features, hospital_targets2, test_input, test_output2)"
      ],
      "execution_count": null,
      "outputs": [
        {
          "output_type": "stream",
          "text": [
            "/usr/local/lib/python3.7/dist-packages/torch/nn/_reduction.py:43: UserWarning: size_average and reduce args will be deprecated, please use reduction='mean' instead.\n",
            "  warnings.warn(warning.format(ret))\n"
          ],
          "name": "stderr"
        },
        {
          "output_type": "stream",
          "text": [
            "Iteration=0, losses=['1.1681', '0.8635'], accuracies=['54.17%', '66.67%']\n",
            "Iteration=10, losses=['1.3158', '0.5268'], accuracies=['45.83%', '66.67%']\n",
            "Iteration=20, losses=['0.5346', '0.1829'], accuracies=['62.50%', '100.00%']\n",
            "Iteration=30, losses=['0.1831', '0.1520'], accuracies=['100.00%', '100.00%']\n",
            "Iteration=40, losses=['0.1595', '0.1329'], accuracies=['100.00%', '100.00%']\n",
            "Iteration=50, losses=['0.1418', '0.1183'], accuracies=['100.00%', '100.00%']\n",
            "Iteration=60, losses=['0.1278', '0.1069'], accuracies=['100.00%', '100.00%']\n",
            "Iteration=70, losses=['0.1166', '0.0976'], accuracies=['100.00%', '100.00%']\n",
            "Iteration=80, losses=['0.1073', '0.0898'], accuracies=['100.00%', '100.00%']\n",
            "Iteration=90, losses=['0.0994', '0.0833'], accuracies=['100.00%', '100.00%']\n"
          ],
          "name": "stdout"
        },
        {
          "output_type": "display_data",
          "data": {
            "image/png": "[encoded data removed]",
            "text/plain": [
              "<Figure size 432x288 with 1 Axes>"
            ]
          },
          "metadata": {
            "tags": [],
            "needs_background": "light"
          }
        },
        {
          "output_type": "display_data",
          "data": {
            "image/png": "[encoded data removed]",
            "text/plain": [
              "<Figure size 432x288 with 1 Axes>"
            ]
          },
          "metadata": {
            "tags": [],
            "needs_background": "light"
          }
        },
        {
          "output_type": "stream",
          "text": [
            "\n",
            "Testing Accuracy = 100.00%\n"
          ],
          "name": "stdout"
        }
      ]
    },
    {
      "cell_type": "code",
      "metadata": {
        "id": "akHAHy4obBRP"
      },
      "source": [
        ""
      ],
      "execution_count": null,
      "outputs": []
    },
    {
      "cell_type": "code",
      "metadata": {
        "id": "lw5LZNQjV3nj"
      },
      "source": [
        ""
      ],
      "execution_count": null,
      "outputs": []
    }
  ]
}